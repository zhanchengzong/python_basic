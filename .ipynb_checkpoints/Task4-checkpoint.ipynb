{
 "cells": [
  {
   "cell_type": "markdown",
   "metadata": {},
   "source": [
    "# 【Day 4】\n",
    "\n",
    "## 1、条件控制（判断语句）\n",
    "\n",
    "### 1.1 概念\n",
    "\n",
    "条件语句是通过一条或多条语句的执行结果（True或者False）来决定执行的代码块。\n",
    "\n",
    "**注意：**\n",
    "* 每个条件后面要使用冒号(：)，表示接下来是满足条件后要执行的语句块\n",
    "* 使用缩进来划分语句块，相同缩进数的语句在一起组成一个语句块\n",
    "\n",
    "\n",
    "### 1.2 基本形式\n",
    "\n",
    "if condition_1:   \n",
    "&#160;&#160;&#160;&#160;statement_block_1  \n",
    "elif condition_2:  \n",
    "&#160;&#160;&#160;&#160;statement_block_2  \n",
    "else:  \n",
    "&#160;&#160;&#160;&#160;statement_block_3"
   ]
  },
  {
   "cell_type": "code",
   "execution_count": 4,
   "metadata": {},
   "outputs": [
    {
     "name": "stdout",
     "output_type": "stream",
     "text": [
      "3小于或等于5\n"
     ]
    }
   ],
   "source": [
    "if 3 > 5:\n",
    "    print('3大于5')\n",
    "else:\n",
    "    print('3小于或等于5')"
   ]
  },
  {
   "cell_type": "markdown",
   "metadata": {},
   "source": [
    "## 2、循环语句\n",
    "\n",
    "### 2.1 概念\n",
    "\n",
    "循环语句是在某种条件下，循环的执行某段代码块，并在符合条件的情况下跳出该段循环，其目的是处理想要进行处理的相同任务，关键词以for、while来标识。\n",
    "\n",
    "### 2.2 for循环基本形式\n",
    "\n",
    "for循环可以遍历任何序列的项目，如一个列表或者一个字符串，else语句可选。\n",
    "\n",
    "for <variable\\> in <sequence\\>:   \n",
    "&#160;&#160;&#160;&#160;statement_block_1  \n",
    "else:  \n",
    "&#160;&#160;&#160;&#160;statement_block_2  \n",
    "\n",
    "### 2.3 while循环基本形式\n",
    "\n",
    "while循环可以通过设置条件表达式永远不为 false 来实现无限循环（按ctrl+c中断循环），else语句可选。\n",
    "\n",
    "while condition:   \n",
    "&#160;&#160;&#160;&#160;statement_block_1  \n",
    "else:  \n",
    "&#160;&#160;&#160;&#160;statement_block_2  \n",
    "\n",
    "### 2.4 break、continue、pass语句\n",
    "\n",
    "* **break：** 用在for和while循环中，用来终止循环语句，即使没有递归完全也会提前终止。如果使用嵌套循环，**break语句将停止执行最深层的循环**，并开始执行下一行代码。\n",
    "* **continue：** 用在for和while循环中，跳过当前循环的剩余语句，然后继续进行下一轮循环。\n",
    "* **pass：** 不做任何事情，一般用做占位语句，为了保持程序结构的完整性。"
   ]
  },
  {
   "cell_type": "code",
   "execution_count": 8,
   "metadata": {},
   "outputs": [
    {
     "name": "stdout",
     "output_type": "stream",
     "text": [
      "0 ,1 ,2 ,3 ,4 ,5 ,6 ,seven"
     ]
    }
   ],
   "source": [
    "while True:\n",
    "    for i in range(10):\n",
    "        if i < 7:\n",
    "            print(i, ',', end='')\n",
    "        elif i == 7:\n",
    "            print('seven', end='')\n",
    "            continue\n",
    "            print('This statement won\\'t be executed!')\n",
    "        else:\n",
    "            pass\n",
    "    break"
   ]
  },
  {
   "cell_type": "markdown",
   "metadata": {},
   "source": [
    "## 3、三元表达式\n",
    "\n",
    "### 3.1 概念\n",
    "\n",
    "Python 中的三元表达式目的是得到一个结果，或者进行简单的变量赋值。\n",
    "\n",
    "\n",
    "### 3.2 基本形式\n",
    "\n",
    "为真时的结果&#160;&#160;if&#160;&#160;判断条件&#160;&#160;else&#160;&#160;为假时的结果\n"
   ]
  },
  {
   "cell_type": "code",
   "execution_count": 9,
   "metadata": {},
   "outputs": [
    {
     "name": "stdout",
     "output_type": "stream",
     "text": [
      "var2\n"
     ]
    }
   ],
   "source": [
    "a = 'var1' if 3 > 5 else 'var2'\n",
    "print(a)"
   ]
  },
  {
   "cell_type": "markdown",
   "metadata": {},
   "source": [
    "## 4、容器\n",
    "\n",
    "### 4.1 概念\n",
    "\n",
    "容器是用来盛放各种元素的，大部分容器都可以遍历。\n",
    "\n",
    "* 最常用的容器包括【列表】、【元组】、【字典】、【集合】\n",
    "* 字符串是有序字符集，本质上也是容器\n",
    "* 在对比和讨论容器的特性时，最常考虑的因素有：①是否有序；②是否可重复；③如何访问其中的元素；④是否可以编辑；⑤如何遍历\n",
    "\n",
    "\n",
    "### 4.2 容器对比\n",
    "\n",
    "* **注意：** ①字符串和元组是不可变对象，而列表、字典、集合是可变对象；②列表、字符串、元组是有序的，可通过索引来访问，而字典、集合是无序的；③列表、字符串、元组的元素可重复，字典的key和集合不可重复；④这几种数据结构可以自由组合，从而形成更大更复杂的结构，唯一的限制来源于这些内置的数据类型本身，比如字典的键必须是不可变对象，因此列表、字典、集合都不能作为字典的键，而元组可以作为字典的键\n",
    "* **tuple与list对比：** ①对数据写\"保护\"（不可变）；②比列表操作速度快；③可作为字典的key\n",
    "* **dict与list对比：** ①查找和插入的速度极快，不会随着key增加而增加（list则会）；②需要占用大量的内存空间（list则少）。因此dict是用空间来换取时间的一种方法\n",
    "* **set和dict对比：** ①set是一组key（不可变对象、且不重复）的集合，但不存储value\n",
    "\n",
    "### 4.3 容器扩展\n",
    "\n",
    "如frozenset、namedtuple、OrderedDict、defaultdict、deque、Counter等。"
   ]
  },
  {
   "cell_type": "markdown",
   "metadata": {},
   "source": [
    "## 5、可迭代对象（Iterable）\n",
    "\n",
    "### 5.1 概念\n",
    "\n",
    "像list、tuple可以通过for循环来遍历，这种遍历称为迭代(Iteration)，这些可以直接作用于for循环对象统称为可迭代对象(Iterable)。但可迭代对象不一定非得是基本数据结构，可以为任意对象，只要这个对象能返回一个迭代器(iterator)。\n",
    "\n",
    "**注意：** 可迭代的类中，一般有\\_\\_iter\\_\\_()以及\\_\\_next()\\_\\_方法，可迭代对象通过调用\\_\\_iter\\_\\_()方法返回一个迭代器。\n",
    "\n",
    "### 5.2 可迭代对象种类\n",
    "\n",
    "* 一类是集合数据类型，如list、tuple、dict、set、str等\n",
    "* 一类是generator，包括生成器和带yield的是generator function\n",
    "\n",
    "### 5.3 判断方法\n",
    "\n",
    "通过isinstance(obj, Iterable)可判断obj是否为可迭代对象。"
   ]
  },
  {
   "cell_type": "code",
   "execution_count": 21,
   "metadata": {},
   "outputs": [
    {
     "name": "stdout",
     "output_type": "stream",
     "text": [
      "判断是否为可迭代对象： True\n",
      "a\n",
      "b\n",
      "c\n"
     ]
    }
   ],
   "source": [
    "from collections import Iterable\n",
    "print('判断是否为可迭代对象：', isinstance('abc', Iterable))\n",
    "\n",
    "x = 'abc'  # x为可迭代对象\n",
    "y = iter(x)  # y为迭代器\n",
    "for ele in y:\n",
    "    print(ele)"
   ]
  },
  {
   "cell_type": "markdown",
   "metadata": {},
   "source": [
    "## 6、迭代器（Iterator）\n",
    "\n",
    "### 6.1 概念\n",
    "\n",
    "迭代器(Iterator)表示的是一个数据流，Iterator对象可以被next()函数调用并不断返回下一个数据，直到没有数据时抛出StopIteration错误。可以把这个数据流看做是一个有序序列，但却不能提前知道序列的长度，只能不断通过next()函数实现按需计算下一个数据，**所以Iterator的计算是惰性的，只有在需要返回下一个数据时它才会计算**。\n",
    "\n",
    "\n",
    "### 6.2 可迭代对象与迭代器总结\n",
    "* 凡是可作用于for循环的对象都是Iterable类型\n",
    "* 凡是可作用于next()函数的对象都是Iterator类型，它们表示一个惰性计算的序列\n",
    "* 集合数据类型如list、dict、str等是Iterable但不是Iterator，不过可以通过iter()函数获得一个Iterator对象（例如Iterator甚至可以表示一个无限大的数据流，例如全体自然数。而使用list是永远不可能存储全体自然数的）\n",
    "* Python的for循环本质上就是通过不断调用next()函数实现的"
   ]
  },
  {
   "cell_type": "code",
   "execution_count": 24,
   "metadata": {},
   "outputs": [
    {
     "name": "stdout",
     "output_type": "stream",
     "text": [
      "a\n",
      "b\n",
      "c\n",
      "There is no element left. StopIteration!\n"
     ]
    },
    {
     "ename": "StopIteration",
     "evalue": "",
     "output_type": "error",
     "traceback": [
      "\u001b[1;31m---------------------------------------------------------------------------\u001b[0m",
      "\u001b[1;31mStopIteration\u001b[0m                             Traceback (most recent call last)",
      "\u001b[1;32m<ipython-input-24-846e9c6f16ca>\u001b[0m in \u001b[0;36m<module>\u001b[1;34m\u001b[0m\n\u001b[0;32m      5\u001b[0m \u001b[1;32mwhile\u001b[0m \u001b[1;32mTrue\u001b[0m\u001b[1;33m:\u001b[0m\u001b[1;33m\u001b[0m\u001b[0m\n\u001b[0;32m      6\u001b[0m     \u001b[1;32mtry\u001b[0m\u001b[1;33m:\u001b[0m\u001b[1;33m\u001b[0m\u001b[0m\n\u001b[1;32m----> 7\u001b[1;33m         \u001b[0mprint\u001b[0m\u001b[1;33m(\u001b[0m\u001b[0mnext\u001b[0m\u001b[1;33m(\u001b[0m\u001b[0my\u001b[0m\u001b[1;33m)\u001b[0m\u001b[1;33m)\u001b[0m\u001b[1;33m\u001b[0m\u001b[0m\n\u001b[0m\u001b[0;32m      8\u001b[0m     \u001b[1;32mexcept\u001b[0m\u001b[1;33m:\u001b[0m\u001b[1;33m\u001b[0m\u001b[0m\n\u001b[0;32m      9\u001b[0m         \u001b[0mprint\u001b[0m\u001b[1;33m(\u001b[0m\u001b[1;34m'There is no element left. StopIteration!'\u001b[0m\u001b[1;33m)\u001b[0m\u001b[1;33m\u001b[0m\u001b[0m\n",
      "\u001b[1;31mStopIteration\u001b[0m: "
     ]
    }
   ],
   "source": [
    "x = 'abc'  # x为可迭代对象\n",
    "y = iter(x)  # y为迭代器\n",
    "\n",
    "# for循环本质上就是通过不断调用next()函数实现的，例如\n",
    "while True:\n",
    "    try:\n",
    "        print(next(y))\n",
    "    except:\n",
    "        print('There is no element left. StopIteration!')\n",
    "        raise"
   ]
  },
  {
   "cell_type": "markdown",
   "metadata": {},
   "source": [
    "## 7、生成器（Generator）\n",
    "\n",
    "### 7.1 概念\n",
    "\n",
    "如果列表元素可以按照某种算法推算出来，就不必创建完整的list，从而节省大量的空间。这种一边循环一边计算的机制，称为生成器(generator)，生成器是一种特殊的迭代器。\n",
    "\n",
    "**注意：**\n",
    "* 任意生成器都是迭代器（反过来不成立）\n",
    "* 任意生成器，都是一个可以延迟创建值的工厂\n",
    "\n",
    "### 7.2 创建生成器\n",
    "\n",
    "要创建一个generator，有很多种方法。例如：\n",
    "\n",
    "* 把一个列表生成式的\\[\\]改成()，就创建了一个generator。创建L和G的区别仅在于最外层的\\[\\]和()，L是一个list，而G是一个generator\n",
    "* 一个函数定义中包含yield关键字，那么这个函数就不再是一个普通函数，而是一个generator\n",
    "\n",
    "### 7.3 调用生成器\n",
    "\n",
    "* generator保存的是算法，每次调用next(G)，就计算出G的下一个元素的值，直到计算到最后一个元素，没有更多的元素时，抛出StopIteration的错误\n",
    "* 通过for循环来迭代G，并且不需要关心StopIteration的错误"
   ]
  },
  {
   "cell_type": "code",
   "execution_count": 27,
   "metadata": {},
   "outputs": [
    {
     "name": "stdout",
     "output_type": "stream",
     "text": [
      "<class 'generator'>\n",
      "0   1   4   9   16   25   36   49   64   81   "
     ]
    }
   ],
   "source": [
    "L = [x * x for x in range(10)]  # 创建列表\n",
    "G = (x * x for x in range(10))  # 创建生成器\n",
    "print(type(G))\n",
    "for g in G:\n",
    "    print(g, '  ', end='')"
   ]
  },
  {
   "cell_type": "code",
   "execution_count": 29,
   "metadata": {},
   "outputs": [
    {
     "name": "stdout",
     "output_type": "stream",
     "text": [
      "1\n",
      "1\n",
      "2\n",
      "3\n",
      "5\n"
     ]
    }
   ],
   "source": [
    "# 函数形式的生成器\n",
    "def fib(max):\n",
    "    n, a, b = 0, 0, 1\n",
    "    while n < max:\n",
    "        yield b\n",
    "        a, b = b, a + b\n",
    "        n = n + 1\n",
    "    return 'done'\n",
    "\n",
    "for n in fib(5):\n",
    "    print(n)"
   ]
  },
  {
   "cell_type": "markdown",
   "metadata": {},
   "source": [
    "## 【Day 4 Task】\n",
    "\n",
    "1. 请对方输入一个0-9之间的数字（整数），进行检查，若不是数字提示：您输入的不是数字，请输入0-9间的数字，若数字不在0-9范围内，提示用户输入0-9之间的数字，直至用户输入正确。\n",
    "\n",
    "\n",
    "2. 系统随机生成一个长度为3的数字列表，且列表中元素在0-9之间并且不相等。将用户输入与该列表进行比较，若为列表第一个元素，则荣获第一名，列表第二个元素，则荣获第二名，列表第三个名字，则荣获第三名，否则提示用户未得奖，输入1重新开始游戏，输入2则结束游戏（**注意：每次游戏中列表中数字要求随机生成，每轮游戏都不相等**）。"
   ]
  },
  {
   "cell_type": "code",
   "execution_count": 34,
   "metadata": {},
   "outputs": [
    {
     "name": "stdout",
     "output_type": "stream",
     "text": [
      "Please enter a integer number between 0 and 9.  what\n",
      "It's not a integer number! Please enter your number again.\n",
      "Please enter a integer number between 0 and 9.  4.0\n",
      "The number must between an integer.\n",
      "Please enter a integer number between 0 and 9.  120\n",
      "The number must between 0 and 9.\n",
      "Please enter a integer number between 0 and 9.  5\n",
      "Well done!\n"
     ]
    },
    {
     "data": {
      "text/plain": [
       "5"
      ]
     },
     "execution_count": 34,
     "metadata": {},
     "output_type": "execute_result"
    }
   ],
   "source": [
    "# Task 1：Enter Integer Number\n",
    "def enter_number():\n",
    "    while True:\n",
    "        num = input('Please enter a integer number between 0 and 9.  ')\n",
    "        try:\n",
    "            float(num)\n",
    "            try:\n",
    "                num = int(num)\n",
    "                if 0 <= num <= 9:\n",
    "                    print('Well done!')\n",
    "                    return num\n",
    "                else:\n",
    "                    print('The number must between 0 and 9.')\n",
    "            except ValueError:\n",
    "                print('The number must between an integer.')\n",
    "        except ValueError:\n",
    "            print('It\\'s not a integer number! Please enter your number again.')\n",
    "            \n",
    "enter_number()"
   ]
  },
  {
   "cell_type": "code",
   "execution_count": null,
   "metadata": {},
   "outputs": [],
   "source": [
    "# Task 2:  Guess Number\n",
    "import random\n",
    "\n",
    "while True:\n",
    "    rand_ls = random.sample(range(0, 10), 3)\n",
    "    num = enter_number()\n",
    "    for i in range(4):\n",
    "        try:\n",
    "            if int(num) == rand_ls[i]:\n",
    "                answer = input('The random list is {}. Congratulations! You win the {} prize!\\nDo you want to start a new game? Please enter 1 if you want or enter 2 if you don\\'t.'.format(rand_ls, rewards[i]))\n",
    "                break\n",
    "        except:\n",
    "            answer = input('The random list is {}, but your guess is {}, no prize for you.\\nDo you want to start a new game? Please enter 1 if you want or enter 2 if you don\\'t.'.format(rand_ls, num))\n",
    "\n",
    "    try:\n",
    "        answer = int(answer)\n",
    "        if answer == 1:\n",
    "            continue\n",
    "        elif answer == 2:\n",
    "            break\n",
    "    except:\n",
    "        answer = input('Do you want to start a new game? Please enter 1 if you want or enter 2 if you don\\'t.')"
   ]
  }
 ],
 "metadata": {
  "kernelspec": {
   "display_name": "Python 3",
   "language": "python",
   "name": "python3"
  },
  "language_info": {
   "codemirror_mode": {
    "name": "ipython",
    "version": 3
   },
   "file_extension": ".py",
   "mimetype": "text/x-python",
   "name": "python",
   "nbconvert_exporter": "python",
   "pygments_lexer": "ipython3",
   "version": "3.6.2"
  }
 },
 "nbformat": 4,
 "nbformat_minor": 1
}
