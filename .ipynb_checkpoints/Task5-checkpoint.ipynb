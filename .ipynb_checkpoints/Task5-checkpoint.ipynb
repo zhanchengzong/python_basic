{
 "cells": [
  {
   "cell_type": "markdown",
   "metadata": {},
   "source": [
    "# 【Day 5】\n",
    "\n",
    "## 1、正则表达式re\n",
    "\n",
    "### 1.1 概念\n",
    "\n",
    "正则表达式，简称regex，是文本模式的描述方法。它的设计思想是用一种描述性的语言来给字符串定义一个规则，凡是符合规则的字符串，我们就认为它“匹配”了，否则，该字符串就是不合法的。\n",
    "\n",
    "### 1.2 创建与匹配Regex对象\n",
    "\n",
    "* **创建：** Python中所有正则表达式的函数都在re模块，向re.coompile()传入一个正则表达式，它将返回一个Regex对象。\n",
    "* **search匹配：** Regex对象的search()方法查找传入的字符串，寻找该正则表达式的所有匹配。未找到则返回None，找到则返回Match对象，它有一个group()方法。\n",
    "* **findall匹配：** Regex对象的search()将返回一个Match对象，包含被查找字符串中的“第一次”匹配的文本，而 findall()方法将返回一组字符串列表(不是Match对象)，包含被查找字符串中的所有匹配。\n",
    "\n",
    "**注意：** 正则表达式经常使用倒斜杠(\\\\)，但同时它也是Python中的转义字符，所以通过在字符串第一个引号前加r，可以将该字符串标记为原始字符串，从而简写。"
   ]
  },
  {
   "cell_type": "code",
   "execution_count": 1,
   "metadata": {},
   "outputs": [
    {
     "name": "stdout",
     "output_type": "stream",
     "text": [
      "Found: 415-555-4242\n"
     ]
    }
   ],
   "source": [
    "import re\n",
    "\n",
    "phoneNumRegex = re.compile(r'\\d\\d\\d-\\d\\d\\d-\\d\\d\\d\\d')  # \\d表示一个数字字符\n",
    "mo = phoneNumRegex.search('My number is 415-555-4242.')\n",
    "print('Found:', mo.group())"
   ]
  },
  {
   "cell_type": "markdown",
   "metadata": {},
   "source": [
    "### 1.3 正则表示式的更多模式\n",
    "#### 1.3.1 利用括号分组\n",
    "添加括号将在正则表达式中创建“分组”。第一对括号是第 1 组，第二对括号是第 2 组。向 group()匹配对象方法传入整数 1 或 2，就可以取得匹配文本的不同部分。向 group()方法传入 0 或不传入参数，将返回整个匹配的文本。"
   ]
  },
  {
   "cell_type": "code",
   "execution_count": 2,
   "metadata": {},
   "outputs": [
    {
     "name": "stdout",
     "output_type": "stream",
     "text": [
      "415-555-4242\n",
      "415\n",
      "555-4242\n",
      "('415', '555-4242')\n",
      "findall: ['415-555-9999', '212-555-0000']\n"
     ]
    }
   ],
   "source": [
    "phoneNumRegex = re.compile(r'(\\d\\d\\d)-(\\d\\d\\d-\\d\\d\\d\\d)')\n",
    "mo = phoneNumRegex.search('My number is 415-555-4242.')\n",
    "print(mo.group())\n",
    "print(mo.group(1))\n",
    "print(mo.group(2))\n",
    "print(mo.groups())  # 如果想要一次就获取所有的分组，可使用 groups()方法\n",
    "\n",
    "phoneNumRegex = re.compile(r'\\d\\d\\d-\\d\\d\\d-\\d\\d\\d\\d')\n",
    "print('findall:', phoneNumRegex.findall('Cell: 415-555-9999 Work: 212-555-0000'))"
   ]
  },
  {
   "cell_type": "markdown",
   "metadata": {},
   "source": [
    "#### 1.3.2 用管道匹配多个分组\n",
    "字符&#160;|&#160;称为“管道”。希望匹配许多表达式中的一个时，就可以使用它。\n",
    "\n",
    "**注意：** 如果模式1和模式2都出现在被查找的字符串中，第一次出现的匹配文本，将作为 Match 对象返回。利用findall()可找到所有匹配。"
   ]
  },
  {
   "cell_type": "code",
   "execution_count": 3,
   "metadata": {},
   "outputs": [
    {
     "name": "stdout",
     "output_type": "stream",
     "text": [
      "Batmobile\n",
      "mobile\n"
     ]
    }
   ],
   "source": [
    "batRegex = re.compile(r'Bat(man|mobile|copter|bat)')\n",
    "mo = batRegex.search('Batmobile lost a wheel')\n",
    "print(mo.group())\n",
    "print(mo.group(1))"
   ]
  },
  {
   "cell_type": "markdown",
   "metadata": {},
   "source": [
    "### 1.4 用 sub()方法替换字符串\n",
    "Regex对象的 sub()方法需要传入两个参数。第一个参数是一个字符串，用于取代发现的匹配。第二个参数是完整字符串。"
   ]
  },
  {
   "cell_type": "code",
   "execution_count": 4,
   "metadata": {},
   "outputs": [
    {
     "data": {
      "text/plain": [
       "'SOMEONE gave the secret documents to SOMEONE.'"
      ]
     },
     "execution_count": 4,
     "metadata": {},
     "output_type": "execute_result"
    }
   ],
   "source": [
    "namesRegex = re.compile(r'Agent \\w+')\n",
    "namesRegex.sub('SOMEONE', 'Agent Alice gave the secret documents to Agent Bob.')"
   ]
  },
  {
   "cell_type": "markdown",
   "metadata": {},
   "source": [
    "### 1.5 贪心和非贪心匹配\n",
    "\n",
    "Python 的正则表达式默认是“贪心”的，这表示在有二义的情况下，它们会尽可能匹配最长的字符串。花括号的“非贪心”版本匹配尽可能最短的字符串，即在结束的花括号后跟着一个问号。"
   ]
  },
  {
   "cell_type": "code",
   "execution_count": 5,
   "metadata": {},
   "outputs": [
    {
     "name": "stdout",
     "output_type": "stream",
     "text": [
      "默认贪心： HaHaHaHaHa\n",
      "非贪心： HaHaHa\n"
     ]
    }
   ],
   "source": [
    "greedyHaRegex = re.compile(r'(Ha){3,5}')\n",
    "mo1 = greedyHaRegex.search('HaHaHaHaHa')\n",
    "print('默认贪心：', mo1.group())\n",
    "\n",
    "nongreedyHaRegex = re.compile(r'(Ha){3,5}?')  # 花括号后加了?\n",
    "mo2 = nongreedyHaRegex.search('HaHaHaHaHa')\n",
    "print('非贪心：', mo2.group())"
   ]
  },
  {
   "cell_type": "markdown",
   "metadata": {},
   "source": [
    "### 1.6 常用正则表达式符号、re.compile()的参数\n",
    "\n",
    "**表示法** | **含义**\n",
    "------------ | -------------\n",
    "？ | 匹配零次或一次前面的分组\n",
    "\\* | 匹配零次或多次前面的分组\n",
    "\\+ | 匹配一次或多次前面的分组\n",
    "{n} | 匹配 n 次前面的分组\n",
    "{n,} | 匹配 n 次或更多前面的分组\n",
    "{,m} | 匹配零次到 m 次前面的分组\n",
    "{n,m} | 匹配至少 n 次、至多 m 次前面的分组\n",
    "{n,m}? 或 \\*? 或 \\+? | 对前面的分组进行非贪心匹配\n",
    "^spam | 意味着字符串必须以 spam 开始\n",
    "spam$ | 意味着字符串必须以 spam 结束\n",
    ". | 匹配所有字符，换行符除外。传入re.DOTALL，可以匹配所有字符，包括换行符\n",
    "\\\\d | 0 到 9 的任何数字\n",
    "\\\\D | 除 0 到 9 的数字以外的任何字符\n",
    "\\\\w | 任何字母、数字或下划线字符（可以认为是匹配“单词”字符）\n",
    "\\\\W | 除字母、数字和下划线以外的任何字符\n",
    "\\\\s | 空格、制表符或换行符（可以认为是匹配“空白”字符）\n",
    "\\\\S | 除空格、制表符和换行符以外的任何字符\n",
    "\\[abc\\] | 匹配方括号内的任意字符（诸如 a、b 或 c）\n",
    "\\[^abc\\] | 匹配不在方括号内的任意字符\n",
    "\n",
    "**参数** | **含义**\n",
    "------------ | -------------\n",
    "re.IGNORECASE | 忽略大小写\n",
    "re.DOTALL | 让.可以匹配所有字符，包括换行符\n",
    "re.VERBOSE | 编写注释"
   ]
  },
  {
   "cell_type": "markdown",
   "metadata": {},
   "source": [
    "## 2、os模块\n",
    "\n",
    "### 2.1 简介\n",
    "\n",
    "os模块是Python标准库中的一个用于**访问操作系统功能**的模块。\n",
    "\n",
    "### 2.2 常用指令\n",
    "\n",
    "**函数** | **含义**\n",
    "------------ | -------------\n",
    "os.getcwd() | 获取当前目录,，相当于shell的(pwd)\n",
    "os.chdir(path) | 改变当前目录，(cd)\n",
    "os.curdir | 返回当前目录，(.)\n",
    "os.pardir | 获取当前目录的父目录，(..)\n",
    "os.mkdir(dir) | 生成单级目录，(mkdir)\n",
    "os.makedirs(path) | 可生成多层递归目录\n",
    "os.rmdir(dir) | 删除单级空目录\n",
    "os.removedirs(path) | 可删除多层递归的空目录，若目录中有文件则无法删除\n",
    "os.listdir(path) | 以列表形式，列出目录下所有文件和子目录，包括隐藏文件\n",
    "os.remove(file) | 删除一个文件，(rm)\n",
    "os.rename(old, new) | 重命名文件、目录，(mv old new)\n",
    "os.stat(path/file) | 获取目录/文件信息\n",
    "os.sep | 输出当前操作系统特定的路径分隔符，win(\\\\\\\\)，linux(/)\n",
    "os.linesep | 输出当前平台使用的行终止符，win(\\\\r\\\\n),linux(\\\\n)\n",
    "os.pathsep | 输出用于分隔文件路径的字符串\n",
    "os.name | 输出字符串表示当前平台，win(nt)，linux(posix)\n",
    "os.environ | 获取系统环境变量\n",
    "os.system('shell command') | 运行shell命令，直接显示\n",
    "os.path.abspath(path) | 返回path规范化的绝对路径\n",
    "os.path.split(path) | 将path分隔为目录和文件名，返回元组\n",
    "os.path.dirname(path)和os.path.basename(path)| 返回path的目录或文件名,即split的第一或二个返回值\n",
    "os.path.exists(path) | 根据path是否存在返回True或False\n",
    "os.path.isabs(path) | 如果是绝对路径，返回True\n",
    "os.path.isfile(path)和os.path.isdir(path) | 如果path是已经存在的文件或目录，则返回True\n",
    "os.path.join(path1, \\[path2\\], ...) | 将多个路径组合返回，第一个绝对路径前的参数将被忽略\n",
    "os.path.getatime(path)和os.path.getmtime(path) | 返回path指向的文件或目录最后存取或修改时间"
   ]
  },
  {
   "cell_type": "code",
   "execution_count": 6,
   "metadata": {},
   "outputs": [
    {
     "name": "stdout",
     "output_type": "stream",
     "text": [
      "D:\\python_basic\n"
     ]
    }
   ],
   "source": [
    "import os\n",
    "\n",
    "print(os.getcwd())"
   ]
  },
  {
   "cell_type": "markdown",
   "metadata": {},
   "source": [
    "## 3、datetime模块\n",
    "\n",
    "### 3.1 简介\n",
    "\n",
    "datetime模块用于是date和time模块的合集，datetime有两个常量，MAXYEAR和MINYEAR，分别是9999和1。Python的内置起始时间是1970年1月1日0时。\n",
    "\n",
    "**datetime模块定义了5个类：**\n",
    "* datetime.date：表示日期的类\n",
    "* datetime.time：表示时间的类\n",
    "* datetime.datetime：表示日期时间的类\n",
    "* datetime.timedelta：表示时间间隔，即两个时间点的间隔\n",
    "* datetime.tzinfo：时区的相关信息\n",
    "\n",
    "### 3.2 datetime.date类\n",
    "date类由year、month、day三部分组成。\n",
    "\n",
    "**函数** | **含义**\n",
    "------------ | -------------\n",
    "datetime.date(2019,1,30) | 构造日期对象，得到datetime.date(2019, 1, 30)\n",
    "datetime.date.today() | 获取当天日期，得到datetime.date(2019, 1, 30)\n",
    "dt.isocalendar() | ISO标准化格式，返回一个包含三个值的元组(年份, 第几周，星期几)，其中周一至周日为1-7\n",
    "dt.isoweekday(...) | 根据周一到周一返回1-7\n",
    "dt\\.year/dt\\.month/dt\\.day | 返回年月日\n",
    "\n",
    "\n",
    "### 3.3 datetime.time类\n",
    "time类由hour小时、minute分钟、second秒、microsecond毫秒和tzinfo五部分组成。\n",
    "\n",
    "**函数** | **含义**\n",
    "------------ | -------------\n",
    "datetime.time(12, 20, 59, 899) | 构造时间对象，datetime.time(12, 20, 59, 899)\n",
    "dt\\.hour/dt\\.minute/dt\\.second/dt\\.microsecond/dt\\.tzinfo | 返回对应的五部分\n",
    "\n",
    "\n",
    "### 3.4 datetime.datetime类\n",
    "datetime类其实是可以看做是date类和time类的合体，其大部分的方法和属性都继承于这二个类。  \n",
    "datetime类有很多参数，datetime(year, month, day\\[, hour\\[, minute\\[, second\\[, microsecond\\[,tzinfo\\]\\]\\]\\]\\])，返回年月日，时分秒。\n",
    "\n",
    "**函数** | **含义**\n",
    "------------ | -------------\n",
    "datetime.datetime(2019,1,12,12,30,40) | 构造日期时间对象\n",
    "dt.date()和dt.time() | 返回日期或时间部分\n",
    "datetime.datetime.fromtimestamp(1200000000) | 表示1970年1月1日0时后1200000000秒的时刻\n",
    "datetime.datetime.now()等同datetime.datetime.today() | 获取当前时间，如2019-01-30 07\\:42\\:13\\. 967525\n",
    "datetime.datetime.strptime('2019-1-30 15:25','%Y-%m-%d %H:%M') | 将字符串解析为datetime对象（p代表parse）\n",
    "datetime.datetime.strftime(datetime.datetime(2019,1,30), '%Y-%m-%d') | 将datetime对象格式化输出（f代表format）\n",
    "\n",
    "\n",
    "### 3.5 datetime.timedelta类\n",
    "timedelta类是用来计算两个datetime对象的差值。  \n",
    "datetime.timedelta(days=0, seconds=0, microseconds=0, milliseconds=0, minutes=0, hours=0, weeks=0)\n",
    "\n",
    "**此类中包含如下属性：**\n",
    "\n",
    "* days:天数,整数\n",
    "* seconds：秒数(>=0 并且 <1天），不足一天的部分以秒计\n",
    "* microseconds：微秒数(>=0 并且 <1秒） ，不足一秒的部分以毫秒计\n",
    "\n",
    "### 3.6 日期时间格式化符号\n",
    "\n",
    "**符号** | **说明**\n",
    "------------ | -------------\n",
    "%y | 两位数的年份表示（00-99）\n",
    "%Y | 四位数的年份表示（000-9999）\n",
    "%m | 月份（01-12）\n",
    "%d | 月内中的一天（0-31）\n",
    "%H | 24小时制小时数（0-23）\n",
    "%I | 12小时制小时数（01-12）\n",
    "%M | 分钟数（00-59）\n",
    "%S | 秒（00-59）\n",
    "%a | 简化的星期名称（Mon、Tue、Wed...）\n",
    "%A | 完整的星期名称（Monday、Tuesday、Wednesday...）\n",
    "%b | 简化的月份名称（Jan、Feb、Mar...）\n",
    "%B | 完整的月份名称（January、February、March...）\n",
    "%c | 本地相应的日期表示和时间表示（'Wed Jan 30 08\\:26\\:16 2019'）\n",
    "%j | 年内的一天（001-366）\n",
    "%p | AM或PM的等价符\n",
    "%U | 一年中的星期数（00-53）星期天为星期的开始\n",
    "%w | 星期（0-6），星期天为星期的开始\n",
    "%W | 一年中的星期数（00-53）星期一为星期的开始\n",
    "%x | 相应的日期表示（'01/30/19'）\n",
    "%X | 两位数的年份表示（'08\\:28\\:31'）\n",
    "%Z | 当前时区的名称\n",
    "%% | %号本身"
   ]
  },
  {
   "cell_type": "code",
   "execution_count": 7,
   "metadata": {},
   "outputs": [
    {
     "name": "stdout",
     "output_type": "stream",
     "text": [
      "2019 1 12 12 30 40\n"
     ]
    }
   ],
   "source": [
    "import datetime\n",
    "dt = datetime.datetime(2019,1,12,12,30,40)\n",
    "print(dt.year,dt.month,dt.day,dt.hour,dt.minute,dt.second)"
   ]
  },
  {
   "cell_type": "markdown",
   "metadata": {},
   "source": [
    "## 4、HTTP请求\n",
    "### 4.1 HTTP简介\n",
    "HTTP协议是Hyper Text Transfer Protocol（超文本传输协议）的缩写,是用于从万维网（WWW\\:World Wide Web ）服务器传输超文本到本地浏览器的传送协议。  \n",
    "HTTP是一个基于TCP/IP通信协议来传递数据（HTML 文件, 图片文件, 查询结果等）。\n",
    "\n",
    "* 客户端发送一个HTTP请求到服务器的请求消息包括以下格式：请求行（request line）、请求头部（header）、空行和请求数据四个部分组成。\n",
    "* HTTP响应也由四个部分组成，分别是：状态行、消息报头、空行和响应正文。\n",
    "\n",
    "### 4.2 HTTP请求方法\n",
    "\n",
    "\n",
    "**方法** | **描述**\n",
    "------------ | -------------\n",
    "GET | 请求指定的页面信息，并返回实体主体\n",
    "HEAD | 类似于get请求，只不过返回的响应中没有具体的内容，用于获取报头\n",
    "POST | 向指定资源提交数据进行处理请求（例如提交表单或者上传文件）。数据被包含在请求体中。POST请求可能会导致新的资源的建立和/或已有资源的修改\n",
    "PUT | 从客户端向服务器传送的数据取代指定的文档的内容\n",
    "DELETE | 请求服务器删除指定的页面\n",
    "CONNECT | HTTP/1.1协议中预留给能够将连接改为管道方式的代理服务器\n",
    "OPTIONS | 允许客户端查看服务器的性能\n",
    "TRACE | 回显服务器收到的请求，主要用于测试或诊断\n",
    "\n",
    "\n",
    "### 4.3 HTTP状态码\n",
    "当浏览者访问一个网页时，浏览者的浏览器会向网页所在服务器发出请求。当浏览器接收并显示网页前，此网页所在的服务器会返回一个包含HTTP状态码的信息头（server header）用以响应浏览器的请求。\n",
    "\n",
    "**状态码** | **描述**\n",
    "------------ | -------------\n",
    "200 | 请求成功\n",
    "301 | 资源（网页等）被永久转移到其它URL\n",
    "404 | 请求的资源（网页等）不存在\n",
    "500 | 内部服务器错误"
   ]
  },
  {
   "cell_type": "markdown",
   "metadata": {},
   "source": [
    "## 【Day 5 Task】\n",
    "\n",
    "1\\. 请用户输入一个时间，输出选项所对应的现在时间，告诉用户这两个时间相隔的天数，小时数，分钟数和秒数。\n",
    "\n",
    "\n",
    "2\\. 请用户输入电话及邮箱，判断用户输入是否合法。\n",
    "\n",
    "3\\. 对http\\://www\\.baidu\\.com 进行请求，并用正则化匹配图片内容，将百度图标爬取下来保存至本地。"
   ]
  },
  {
   "cell_type": "code",
   "execution_count": 8,
   "metadata": {},
   "outputs": [
    {
     "name": "stdout",
     "output_type": "stream",
     "text": [
      "请输入一个时间，形如 2019-01-30 08:30:09 what\n",
      "输入不符合要求，请输入一个时间，形如 2019-01-30 08:30:09 2019-01-22 06:15:03\n",
      "您输入的时间与现在间隔：8天15小时47分钟8秒\n"
     ]
    }
   ],
   "source": [
    "# TASK 1\n",
    "from datetime import datetime\n",
    "\n",
    "while True:\n",
    "    dt = input('请输入一个时间，形如 2019-01-30 08:30:09 ')\n",
    "    try:\n",
    "        dt = datetime.strptime(dt, '%Y-%m-%d %H:%M:%S')\n",
    "        break\n",
    "    except ValueError:\n",
    "        print('输入不符合要求，', end='')\n",
    "\n",
    "now = datetime.now()\n",
    "interval = now - dt if now > dt else dt - now\n",
    "days = interval.days\n",
    "hours = interval.seconds // 3600\n",
    "minutes = (interval.seconds - hours * 3600) // 60\n",
    "seconds = interval.seconds - hours * 3600 - minutes * 60\n",
    "print('您输入的时间与现在间隔：{}天{}小时{}分钟{}秒'.format(days, hours, minutes, seconds))"
   ]
  },
  {
   "cell_type": "code",
   "execution_count": 9,
   "metadata": {},
   "outputs": [
    {
     "name": "stdout",
     "output_type": "stream",
     "text": [
      "请输入11位手机号：what\n",
      "输入不符合要求，请输入11位手机号：13800\n",
      "输入不符合要求，请输入11位手机号：13800138000\n",
      "您的手机号是: 13800138000\n"
     ]
    }
   ],
   "source": [
    "# TASK 2.1\n",
    "# 创建识别电话的正则表达式\n",
    "import re\n",
    "\n",
    "phoneRegex = re.compile(r'^1\\d{10}$')\n",
    "while True:\n",
    "    phone = input('请输入11位手机号：')\n",
    "    mo = phoneRegex.search(phone)\n",
    "    if mo is not None:\n",
    "        print('您的手机号是:', phone)\n",
    "        break\n",
    "    else:\n",
    "        print('输入不符合要求，', end='')\n",
    "        continue"
   ]
  },
  {
   "cell_type": "code",
   "execution_count": 10,
   "metadata": {},
   "outputs": [
    {
     "name": "stdout",
     "output_type": "stream",
     "text": [
      "请输入邮箱，形如 xxxxxxx@xxx.com：what\n",
      "输入不符合要求，请输入邮箱，形如 xxxxxxx@xxx.com：mymail@126\n",
      "输入不符合要求，请输入邮箱，形如 xxxxxxx@xxx.com：mymail@126.com\n",
      "您的邮箱是: mymail@126.com\n"
     ]
    }
   ],
   "source": [
    "# TASK 2.2\n",
    "# 创建识别邮箱的正则表达式\n",
    "emailRegex = re.compile(r'[a-zA-Z0-9_-]+@[a-zA-Z0-9_-]+\\.com$')\n",
    "while True:\n",
    "    email = input('请输入邮箱，形如 xxxxxxx@xxx.com：')\n",
    "    mo = emailRegex.search(email)\n",
    "    if mo is not None:\n",
    "        print('您的邮箱是:', email)\n",
    "        break\n",
    "    else:\n",
    "        print('输入不符合要求，', end='')\n",
    "        continue"
   ]
  },
  {
   "cell_type": "code",
   "execution_count": 12,
   "metadata": {},
   "outputs": [
    {
     "name": "stdout",
     "output_type": "stream",
     "text": [
      "DOWNLOAD TASK SUC!\n"
     ]
    }
   ],
   "source": [
    "# TASK 3\n",
    "import requests\n",
    "\n",
    "headers = {'User-Agent': 'Mozilla/5.0 (X11; Linux x86_64) AppleWebKit/537.36 (KHTML, like Gecko) Chrome/56.0.2924.87 Safari/537.36'}\n",
    "response = requests.get('https://www.baidu.com', headers=headers)\n",
    "response.encoding = \"utf-8\"\n",
    "html = response.text\n",
    "picRegex = re.compile(r'src=\"//(.+\\.png)\"')\n",
    "herfs = picRegex.findall(html)\n",
    "\n",
    "for herf in herfs:\n",
    "    img_name = herf.split('/')[-1]\n",
    "    img_file = requests.get('https://{}'.format(herf), headers=headers).content\n",
    "    with open(img_name, 'wb') as f:\n",
    "        f.write(img_file)\n",
    "print('DOWNLOAD TASK SUC!')"
   ]
  }
 ],
 "metadata": {
  "kernelspec": {
   "display_name": "Python 3",
   "language": "python",
   "name": "python3"
  },
  "language_info": {
   "codemirror_mode": {
    "name": "ipython",
    "version": 3
   },
   "file_extension": ".py",
   "mimetype": "text/x-python",
   "name": "python",
   "nbconvert_exporter": "python",
   "pygments_lexer": "ipython3",
   "version": "3.6.5"
  }
 },
 "nbformat": 4,
 "nbformat_minor": 1
}
