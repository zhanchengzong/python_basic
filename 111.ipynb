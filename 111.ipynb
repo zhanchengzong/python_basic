{
 "cells": [
  {
   "cell_type": "markdown",
   "metadata": {},
   "source": [
    "# 【Day 1】\n",
    "\n",
    "## 1、环境搭建\n",
    "\n",
    "anaconda环境配置、解释器\n",
    "\n",
    "\n",
    "## 2、Python初体验\n",
    "\n",
    "print and input"
   ]
  },
  {
   "cell_type": "code",
   "execution_count": 1,
   "metadata": {},
   "outputs": [
    {
     "name": "stdout",
     "output_type": "stream",
     "text": [
      "Hello Python!\n",
      "Are you new to python? Kinda.\n",
      "Kinda.\n"
     ]
    }
   ],
   "source": [
    "print('Hello Python!')\n",
    "answer = input('Are you new to python? ')\n",
    "print(answer)"
   ]
  },
  {
   "cell_type": "markdown",
   "metadata": {},
   "source": [
    "## 3、Python基础详解\n",
    "### 3.1 Python变量特性+命名规则\n",
    "\n",
    "#### 3.1.1 Python命名规则\n",
    "\n",
    "Python中的变量可以取任何名字，只要它遵守以下4条规则：\n",
    "* 只能是一个词(即不能用空格区分)；\n",
    "* 只能包含字母、数字和下划线；\n",
    "* 不能以数字开头；\n",
    "* 不能将python关键用作变量名。\n",
    "\n",
    "**有效的变量名** | **无效的变量名**\n",
    "------------ | -------------\n",
    "myName | my name(不允许空格)\n",
    "name | my-name(不允许中划线)\n",
    "my_name | 5name(不允许数字开头)\n",
    "\\_name | 2019(不允许数字开头)\n",
    "NAME | my_\\\\$name(不允许$这样的特殊字符)\n",
    "name5 | 'name'(不允许'这样的特殊字符)\n",
    "true | True(不允许使用关键字)\n",
    "\n",
    "#### 3.1.2 Python变量特性\n",
    "\n",
    "python使用对象来存储数据，每一种数据类型都有一个内置的类(如数字、字符串、列表、元组、字典、集合、函数、类、模块、文件等)，每新建一个变量，实际就是初始化生成一个对象，即所有数据都是对象。对象的三个特性：\n",
    "* 身份：内存地址，可以用id()获取\n",
    "* 类型：决定了该对象可以保存什么类型的数据，可以执行哪些操作，需要遵循什么规则，可以用type()获取\n",
    "* 值： 对象保存的真实数据\n",
    "\n",
    "**注意：**\n",
    "\n",
    "**变量名区分大小写：** 意味着NAME、name、Name、nAmE是4个不同的变量\n",
    "\n",
    "**推荐的命名形式：** PEP8风格：look_like_this； 驼峰式：lookLikeThis"
   ]
  },
  {
   "cell_type": "markdown",
   "metadata": {},
   "source": [
    "### 3.2 注释方法\n",
    "\n",
    "Python中的注释有单行注释和多行注释：\n",
    "\n",
    "* 单行注释以 # 开头\n",
    "* 多行注释用三个单引号 ''' 或者三个双引号 \"\"\" 将注释括起来"
   ]
  },
  {
   "cell_type": "code",
   "execution_count": 2,
   "metadata": {},
   "outputs": [
    {
     "name": "stdout",
     "output_type": "stream",
     "text": [
      "Whatever\n",
      "In the year of our lord 1239\n"
     ]
    }
   ],
   "source": [
    "print('Whatever')  # It's a comment\n",
    "\n",
    "'''\n",
    "It's a  comment\n",
    "Nothing happens\n",
    "'''\n",
    "\n",
    "\"\"\"\n",
    "It's a  comment\n",
    "Nothing happens\n",
    "\"\"\"\n",
    "print('In the year of our lord 1239')"
   ]
  },
  {
   "cell_type": "markdown",
   "metadata": {},
   "source": [
    "### 3.3 python中“：”作用\n",
    "\n",
    "* **冒号:和空格用于区分代码之间的层次**，常见于函数、循环、判断等语句（因为Python没有像其他语言一样采用{}或begin...end分隔代码块）\n",
    "* **用于切片**，常见于数组、列表等"
   ]
  },
  {
   "cell_type": "code",
   "execution_count": 3,
   "metadata": {},
   "outputs": [
    {
     "name": "stdout",
     "output_type": "stream",
     "text": [
      "True\n",
      "[0, 1, 2, 3, 4]\n"
     ]
    }
   ],
   "source": [
    "# 冒号用于区分代码之间的层次\n",
    "if 5 > 3:\n",
    "    print('True')\n",
    "else:\n",
    "    print('False')\n",
    "    \n",
    "# 冒号用于切片\n",
    "rng = list(range(10))\n",
    "print(rng[:5])"
   ]
  },
  {
   "cell_type": "markdown",
   "metadata": {},
   "source": [
    "### 3.4 学会使用dir( )及和help( )\n",
    "\n",
    "* **dir():** 不带参数时，返回当前范围内的变量、方法和定义的类型列表；带参数时，返回参数的属性、方法列表。如果参数包含方法__dir__()，该方法将被调用。如果参数不包含\\_\\_dir\\_\\_()，该方法将最大限度地收集参数信息。\n",
    "\n",
    "* **help():** 用于查看函数或模块用途的详细说明。"
   ]
  },
  {
   "cell_type": "code",
   "execution_count": 4,
   "metadata": {},
   "outputs": [
    {
     "name": "stdout",
     "output_type": "stream",
     "text": [
      "不带参数: ['In', 'Out', '_', '__', '___', '__builtin__', '__builtins__', '__doc__', '__loader__', '__name__', '__package__', '__spec__', '_dh', '_i', '_i1', '_i2', '_i3', '_i4', '_ih', '_ii', '_iii', '_oh', 'answer', 'exit', 'get_ipython', 'quit', 'rng']\n",
      "\n",
      "带参数: ['__add__', '__class__', '__contains__', '__delattr__', '__delitem__', '__dir__', '__doc__', '__eq__', '__format__', '__ge__', '__getattribute__', '__getitem__', '__gt__', '__hash__', '__iadd__', '__imul__', '__init__', '__init_subclass__', '__iter__', '__le__', '__len__', '__lt__', '__mul__', '__ne__', '__new__', '__reduce__', '__reduce_ex__', '__repr__', '__reversed__', '__rmul__', '__setattr__', '__setitem__', '__sizeof__', '__str__', '__subclasshook__', 'append', 'clear', 'copy', 'count', 'extend', 'index', 'insert', 'pop', 'remove', 'reverse', 'sort']\n",
      "\n",
      "查看sum的帮助文档：\n",
      "Help on built-in function sum in module builtins:\n",
      "\n",
      "sum(iterable, start=0, /)\n",
      "    Return the sum of a 'start' value (default: 0) plus an iterable of numbers\n",
      "    \n",
      "    When the iterable is empty, return the start value.\n",
      "    This function is intended specifically for use with numeric values and may\n",
      "    reject non-numeric types.\n",
      "\n",
      "None\n"
     ]
    }
   ],
   "source": [
    "print('不带参数:', dir())\n",
    "print('')\n",
    "print('带参数:', dir(rng))\n",
    "print('')\n",
    "print('查看sum的帮助文档：')\n",
    "print(help(sum))"
   ]
  },
  {
   "cell_type": "markdown",
   "metadata": {},
   "source": [
    "### 3.5 import使用\n",
    "\n",
    "import module_name的本质是是将module_name.py中的全部代码加载到内存并赋值给与模块同名的变量写在当前文件中,这个变量的类型是'module'。\n",
    "\n",
    "<module 'module_name' from 'E:\\\\PythonImport\\\\module_name.py'>\n",
    "\n",
    "* **导入整个模块：** import module1 \\[as alias1\\], module2 \\[as alias2\\]\n",
    "* **导入模块中指定的类、方法(不加括号)、属性：** from module import module_element1 \\[as alias1\\], module_element2 \\[as alias2\\]\n",
    "* **导入模块中的全部对象(从而不需要在调用的时候指定模型，不推荐)：** from module import *"
   ]
  },
  {
   "cell_type": "code",
   "execution_count": 5,
   "metadata": {},
   "outputs": [],
   "source": [
    "import pandas as pd\n",
    "from datetime import datetime\n",
    "from math import *"
   ]
  },
  {
   "cell_type": "markdown",
   "metadata": {},
   "source": [
    "### 3.6 PEP8介绍\n",
    "\n",
    "Python的PEP8规范是一套关于一致性的风格指南，主要是用于提升代码的可读性。\n",
    "\n",
    "**参考（英文版）：** https://legacy.python.org/dev/peps/pep-0008/\n",
    "\n",
    "**参考（中文版）：** https://blog.csdn.net/ratsniper/article/details/78954852\n",
    "\n",
    "部分规则介绍：\n",
    "\n",
    "* 每一级缩进使用4个空格\n",
    "* 所有行限制的最大字符数为79\n",
    "* 在二元运算符之前换行\n",
    "* 顶层函数和类的定义，前后用两个空行隔开； 类里的方法定义用一个空行隔开\n",
    "* import通常在分开的行，import总是位于文件的顶部，在模块注释和文档字符串之后，在模块的全局变量与常量之前\n",
    "* 字符串引号可以是单引号或双引号，但整个文件尽量只选用一种并坚持下去\n",
    "* 避免表达式和语句中不必要的空格\n",
    "* 总是在二元运算符两边加一个空格：赋值（=），增量赋值（+=，-=），比较（==,<,>,!=,<>,<=,>=,in,not,in,is,is not），布尔（and, or, not）\n",
    "* 与代码相矛盾的注释比没有注释还糟，当代码更改时，优先更新对应的注释！ \n",
    "* 永远不要使用字母‘l’（小写的L），‘O’（大写的O），或者‘I’（大写的I）作为单字符变量名。\n",
    "* 类名一般使用首字母大写的约定\n",
    "* 函数名应该小写，如果想提高可读性可以用下划线分隔\n",
    "* 常量通常定义在模块级，通过下划线分隔的全大写字母命名。例如： MAX_OVERFLOW 和 TOTAL"
   ]
  },
  {
   "cell_type": "markdown",
   "metadata": {},
   "source": [
    "## 4、Python数值基本知识\n",
    "### 4.1 Python中数值类型，int，float，bool，e记法等\n",
    "\n",
    "* int：整型，如1、2、3\n",
    "* float：浮点型，如3.1415，如果浮点型转为整型， 会直接将小数点后全截断(而不是四舍五入)\n",
    "* bool：布尔型，True = 1, False = 0\n",
    "* e记法：科学计数法，如1.5e3，e表示10，后面的3表示10的三次方，即1.5*10³ = 1500.0"
   ]
  },
  {
   "cell_type": "markdown",
   "metadata": {},
   "source": [
    "### 4.2 算术运算符\n",
    "\n",
    "假设变量a=10， b=20\n",
    "\n",
    "**运算符** | **描述** | **实例**\n",
    "------- | ------- | -------\n",
    "+ | 加法 | a + b 输出结果 30\n",
    "- | 减法 | a - b 输出结果 -10\n",
    "* | 乘法 | a * b 输出结果 200\n",
    "/ | 除法 | b / a 输出结果 2\n",
    "% | 取余 | b % a 输出结果 0\n",
    "\\** | 幂乘 | \ta\\**b 为10的20次方，输出结果 100000000000000000000\n",
    "// | 返回商的整数部分（向下取整） | 9 // 2输出结果4"
   ]
  },
  {
   "cell_type": "markdown",
   "metadata": {},
   "source": [
    "### 4.3 逻辑运算符\n",
    "\n",
    "假设变量a=10， b=20\n",
    "\n",
    "**运算符** | **逻辑表达式** | **描述** | **实例**\n",
    "------- | ------- | ------- | -------\n",
    "and | a and b | 如果a为Fasle, a and b 返回False，否则返回y的计算值 | (a and b)返回20\n",
    "or | a or b | 如果a为非0, 则返回a的计算值, 否则返回y的计算值 | (a or b)返回10\n",
    "not | not a | 如果a为True, 返回False; 如果x为False, 则返回True | not(a and b)返回False"
   ]
  },
  {
   "cell_type": "markdown",
   "metadata": {},
   "source": [
    "### 4.4 成员运算符\n",
    "\n",
    "常用于字符串、列表、元组、字典、集合\n",
    "\n",
    "**运算符** | **描述** | **实例**\n",
    "------- | ------- | -------\n",
    "in | 如果在指定的序列中找到值返回 True，否则返回 False | 'p' in 'python' 输出结果True\n",
    "not in  | 如果在指定的序列中没有找到值返回 True，否则返回 False | 3 not in \\[1,2,'3'\\] 输出结果 True"
   ]
  },
  {
   "cell_type": "markdown",
   "metadata": {},
   "source": [
    "### 4.5 身份运算符\n",
    "\n",
    "用于比较两个对象的存储单元\n",
    "\n",
    "**运算符** | **描述** | **实例**\n",
    "------- | ------- | -------\n",
    "is | 判断两个标识符是不是引用自一个对象 | x is y, 类似 id(x) == id(y) , 如果引用的是同一个对象则返回 True，否则返回 False\n",
    "is not  | 判断两个标识符是不是引用自不同对象 | x is not y ， 类似 id(a) != id(b)"
   ]
  },
  {
   "cell_type": "markdown",
   "metadata": {},
   "source": [
    "### 4.6 运算符优先级\n",
    "\n",
    "以下表格列出了从最高到最低优先级的所有运算符：\n",
    "\n",
    "**运算符** | **描述**\n",
    "------- | -------\n",
    "** | 指数 (最高优先级)\n",
    "~ + - | 按位翻转, 一元加号和减号 (最后两个的方法名为 +@ 和 -@)\n",
    "* / % // | 乘，除，取余和取整除\n",
    "+ -\t | \t加法减法\n",
    ">> << | 右移，左移运算符\n",
    "& | 位 'AND'\n",
    "^ \\\\| | 异或、或运算符\n",
    "<= < > >= | 比较运算符\n",
    "<> == != | 等于运算符\n",
    "= %= /= //= -= += \\*= \\*\\*=\t | 赋值运算符\n",
    "is is not | 身份运算符\n",
    "in not in | 成员运算符\n",
    "not and or | 逻辑运算符"
   ]
  },
  {
   "cell_type": "markdown",
   "metadata": {},
   "source": [
    "## 5、string字符串\n",
    "### 5.1 定义及基本操作（+，*，读取方式）\n",
    "\n",
    "字符串是 Python 中最常用的数据类型。可以使用引号('或\")来创建字符串。\n",
    "\n",
    "创建字符串，只需为变量分配一个值即可。如 var1 = 'Hello World!'\n",
    "\n",
    "假设变量a = 'Hello', b = 'Python':\n",
    "\n",
    "**操作符** | **描述** | **实例**\n",
    "------- | ------- | -------\n",
    "+ | 字符串连接 | a + b 输出结果 'HelloPython'\n",
    "* | 重复输出字符串 | a * 2 输出结果 'HelloHello'\n",
    "\\[ : \\] | 截取字符串中的一部分 | a\\[:4\\] 输出结果 'Hell'\n",
    "in \\|not in | 成员运算符 | 'P' in 'Python' 输出结果True\n",
    "r(或大写R) | 原始字符串，所有的字符串都是直接按照字面的意思来使用，没有转义 | 例如读取路径r'C:\\Users\\admin\\Desktop\\test.xlsx'\n",
    "% | 格式字符串 | 详见5.3节"
   ]
  },
  {
   "cell_type": "markdown",
   "metadata": {},
   "source": [
    "### 5.2 字符串相关方法\n",
    "\n",
    "假设变量a = 'Hello'\n",
    "\n",
    "**方法** | **描述**\n",
    "------- | -------\n",
    "a.capitalize() | 把字符串的第一个字符大写\n",
    "a.title() | 把字符串中每个单词的首字母大写\n",
    "a.center(width) | 返回一个原字符串居中,并使用空格填充至长度 width 的新字符串\n",
    "a.count(str) | 返回 str 在 a 里面出现的次数\n",
    "a.startswith(str) \\\\| a.endswith(str) | 检查字符串是否以 str 开始/结束，返回True或False\n",
    "a.expandtabs(tabsize=8) | 把字符串 a 中的 tab 符号转为空格，tab 符号默认的空格数是 8\n",
    "a.find(str) \\| a.rfind(str) | (从左从右)检测 str 是否包含在 a 中，如果是返回第一个 str 的索引值，否则返回-1\n",
    "a.format() | 格式化字符串\n",
    "a.index(str) | 跟find()方法一样，只不过如果str不在 a 中会报一个异常\n",
    "a.isalnum() | 如果 a 至少有一个字符并且所有字符都是字母或数字则返回 True,否则返回 False\n",
    "a.isalpha() | 如果 a 至少有一个字符并且所有字符都是字母则返回 True,否则返回 False\n",
    "a.isdecimal() | 如果 a 只包含十进制数字则返回 True 否则返回 False\n",
    "a.isdigit() | 如果 a 只包含数字则返回 True 否则返回 False\n",
    "a.islower() | 如果 a 中包含至少一个区分大小写的字符，并且所有这些(区分大小写的)字符都是小写，则返回 True，否则返回 False\n",
    "a.isnumeric() | 如果 a 中只包含数字字符，则返回 True，否则返回 False\n",
    "a.isspace() | 如果 a 中只包含空格，则返回 True，否则返回 False\n",
    "a.istitle() | 如果 a 是标题化的(见 title())则返回 True，否则返回 False\n",
    "a.isupper() \\| a.islower() | 如果 a 中包含至少一个区分大小写的字符，并且所有这些(区分大小写的)字符都是大/小写，则返回 True，否则返回 False\n",
    "a.join(seq) | 以 a 作为分隔符，将 seq 中所有的元素(的字符串表示)合并为一个新的字符串\n",
    "a.ljust(width) \\| a.rjust(width) | 返回一个原字符串左/右对齐,并使用空格填充至长度 width 的新字符串\n",
    "a.zfill(width) | 返回长度为 a 的字符串，原字符串 string 右对齐，前面填充0\n",
    "a.upper() \\|a.lower() | 转换 a 中所有字符转为大/小写\n",
    "a.swapcase() | 翻转 a 中的大小写\n",
    "a.strip() \\| a.lstrip() \\| a.rstrip() | 截掉 a 左右、左边/右边的空格\n",
    "max(a) \\| min(a) | 返回字符串 a 中最大/最小的字母\n",
    "a.partition(str) \\| a.rpartition(str) | 有点像 find()和 split()的结合体,从 str 出现的第一个位置起,把 字 符 串 string 分 成 一 个 3 元 素 的 元 组 (string_pre_str,str,string_post_str),如果 string 中不包含str 则 string_pre_str == string\n",
    "a.replace(str1, str2, count=-1) | 把 string 中的 str1 替换成 str2,如果 count 指定，则替换不超过 count 次\n",
    "a.split(str=',', maxsplit=-1) | 以 str 为分隔符切片 a，如果 maxsplit 有指定值，则仅分隔 maxsplit + 1 个子字符串\n",
    "a.splitlines(\\[keepends\\]) | 按照行('\\r', '\\r\\n', \\n')分隔，返回一个包含各行作为元素的列表，如果参数 keepends 为 False，不包含换行符，如果为 True，则保留换行符\n",
    "a.translate(str, table=\"\") | 根据 str 给出的表(包含 256 个字符)转换 string 的字符,要过滤掉的字符放到 del 参数中\n",
    "\n",
    "\n",
    "\n",
    "\n",
    "\n",
    "\n",
    "\n",
    "\n",
    "\n"
   ]
  },
  {
   "cell_type": "markdown",
   "metadata": {},
   "source": [
    "### 5.3 字符串格式化问题\n",
    "\n",
    "**python字符串格式化符号:**\n",
    "\n",
    "**符号** | **描述**\n",
    "------- | -------\n",
    "%c | 格式化字符及其ASCII码\n",
    "%s | 格式化字符串\n",
    "%d | 格式化整数\n",
    "%u | 格式化无符号整型\n",
    "%o | 格式化无符号八进制数\n",
    "%x | 格式化无符号十六进制数\n",
    "%X | 格式化无符号十六进制数（大写）\n",
    "%f | 格式化浮点数字，可指定小数点后的精度\n",
    "%e | 用科学计数法格式化浮点数\n",
    "%E | 作用同%e，用科学计数法格式化浮点数\n",
    "%g | %f和%e的简写\n",
    "%G | %f 和 %E 的简写\n",
    "%p | 用十六进制数格式化变量的地址\n",
    "\n",
    "\n",
    "**格式化操作符辅助指令:**\n",
    "\n",
    "**符号** | **功能**\n",
    "------- | -------\n",
    "* | 定义宽度或者小数点精度\n",
    "- | 用做左对齐\n",
    "+ | 在正数前面显示加号( + )\n",
    "<sp\\> | 在正数前面显示空格\n",
    "\\# | 在八进制数前面显示零('0')，在十六进制前面显示'0x'或者'0X'(取决于用的是'x'还是'X')\n",
    "0 | 显示的数字前面填充'0'而不是默认的空格\n",
    "% | '%%'输出一个单一的'%'\n",
    "(var) | 映射变量(字典参数)\n",
    "m.n.\t | m 是显示的最小总宽度,n 是小数点后的位数(如果可用的话)"
   ]
  },
  {
   "cell_type": "markdown",
   "metadata": {},
   "source": [
    "## 【Day 1 Task】\n",
    "要求用户依次输入姓名，性别，年龄，并对用户信息进行输出格式如下：您的姓名是：\\*\\*\\*, 您的性别是：\\*\\*\\*, 您是\\*\\*\\*年出生的。"
   ]
  },
  {
   "cell_type": "code",
   "execution_count": 6,
   "metadata": {},
   "outputs": [
    {
     "name": "stdout",
     "output_type": "stream",
     "text": [
      "请输入您的姓名：小白\n",
      "请输入您的性别：男\n",
      "请输入您的年龄：20\n",
      "您的姓名是：小白， 您的性别是：男， 您是1999年出生的。\n"
     ]
    }
   ],
   "source": [
    "name = input('请输入您的姓名：')\n",
    "gender = input('请输入您的性别：')\n",
    "age = input('请输入您的年龄：')\n",
    "print('您的姓名是：{}， 您的性别是：{}， 您是{}年出生的。'.format(name, gender, 2019-int(age)))"
   ]
  }
 ],
 "metadata": {
  "kernelspec": {
   "display_name": "Python 3",
   "language": "python",
   "name": "python3"
  },
  "language_info": {
   "codemirror_mode": {
    "name": "ipython",
    "version": 3
   },
   "file_extension": ".py",
   "mimetype": "text/x-python",
   "name": "python",
   "nbconvert_exporter": "python",
   "pygments_lexer": "ipython3",
   "version": "3.6.2"
  }
 },
 "nbformat": 4,
 "nbformat_minor": 2
}
