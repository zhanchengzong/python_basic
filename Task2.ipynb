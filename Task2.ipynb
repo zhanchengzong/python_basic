{
 "cells": [
  {
   "cell_type": "markdown",
   "metadata": {},
   "source": [
    "# 【Day 2】\n",
    "\n",
    "## 1、列表\n",
    "\n",
    "### 1.1 列表概念\n",
    "\n",
    "列表（数据项不需要具有相同的类型）是最常用的Python数据类型，它可以作为一个方括号内的逗号分隔值出现，与字符串的索引一样，列表索引从0开始。\n",
    "\n",
    "### 1.2 列表基本操作\n",
    "\n",
    "* **创建列表：** 只要把逗号分隔的不同的数据项使用方括号括起来即可\n",
    "\n",
    "* **访问列表中的值：** 列表与元组、字符串类似，下标索引从0开始，可以进行截取，组合等\n",
    "\n",
    "* **更新列表：** 可以对列表的数据项进行修改或更新，也可以使用append()方法来添加列表项\n",
    "\n",
    "* **删除列表元素：** remove是删除首个符合条件的元素,而不是删除特定的索引；del是根据索引(元素所在位置)来删除的(可以一次删多个，传入单个数值或切片)；pop也是根据索引删除(每次只能删1个)，但它还会返回被删除的元素\n",
    "\n",
    "* **拷贝列表：** copy()浅拷贝只能拷贝最外层，修改内层则原列表和新列表都会变化；copy.deepcopy()深拷贝是指将原列表完全克隆一份新的\n",
    "\n",
    "* **检查成员：** in、not in，检查元素是否存在于列表中\n",
    "\n",
    "* **脚本操作符：** 列表对 + 和 \\* 的操作符与字符串相似。+ 号用于组合列表，\\* 号用于重复列表"
   ]
  },
  {
   "cell_type": "code",
   "execution_count": 1,
   "metadata": {},
   "outputs": [
    {
     "name": "stdout",
     "output_type": "stream",
     "text": [
      "('3', 4)\n",
      "python\n"
     ]
    }
   ],
   "source": [
    "list1 = [1, 'python', ('3', 4)]  # 创建列表\n",
    "print(list1[2])  # 访问列表中的值\n",
    "list1[2] = 'new'  # 更新列表,修改元素\n",
    "list1.append('something')  # 更新列表，添加元素\n",
    "del list1[2:]  # 删除索引2以后的元素\n",
    "print(list1.pop(1))  # 删除索引为1的元素，并返回被删除的值"
   ]
  },
  {
   "cell_type": "code",
   "execution_count": 2,
   "metadata": {},
   "outputs": [
    {
     "name": "stdout",
     "output_type": "stream",
     "text": [
      "s0: [[1, 'hello'], 3, 4],   s2: [[1, 'hello'], 'oliver', 4]\n",
      "s1: [[1, 2], 3, 4],   s3: [[1, 'hello'], 'oliver', 4]\n"
     ]
    }
   ],
   "source": [
    "import copy\n",
    "\n",
    "s0 = [[1, 2], 3, 4]\n",
    "s1 = [[1, 2], 3, 4]\n",
    "s2 = s0.copy()  # 浅拷贝\n",
    "s3 = copy.deepcopy(s1)  # 深拷贝\n",
    "s2[1] = 'oliver'\n",
    "s2[0][1] = 'hello'\n",
    "s3[1] = 'oliver'\n",
    "s3[0][1] = 'hello'\n",
    "print('s0: {},   s2: {}'.format(s0, s2))\n",
    "print('s1: {},   s3: {}'.format(s1, s3))"
   ]
  },
  {
   "cell_type": "markdown",
   "metadata": {},
   "source": [
    "### 1.3 列表相关函数、方法\n",
    "\n",
    "**函数** | **描述**\n",
    "------- | -------\n",
    "len(list) | 返回列表元素个数\n",
    "max(list) &#124; min(list)| 返回列表元素最大值/最小值\n",
    "list(tuple) | 将元组转换为列表\n",
    "\n",
    "**方法** | **描述**\n",
    "------- | -------\n",
    "list.append(obj) | 在列表末尾添加新的对象(每次增加一个)\n",
    "list.extend(seq) | 在列表末尾一次性追加另一个序列中的多个值（每次增加一个或多个）\n",
    "list.count(obj) | 统计某个元素在列表中出现的次数\n",
    "list.index(obj) | 从列表中找出某个值第一个匹配项的索引位置\n",
    "list.insert(index, obj) | 将obj插入列表索引为index的位置\n",
    "list.pop(\\[index=-1\\]) | 移除列表中的一个元素（默认最后一个元素），并且返回该元素的值\n",
    "list.remove(obj) | 移除列表中某个值的第一个匹配项\n",
    "list.reverse() | 反转整个列表，就地修改，不返回值\n",
    "list.sort(key=None, reverse=False) | 对列表进行排序，就地修改，不返回值\n",
    "list.clear() | 清空列表\n",
    "list.copy() | 浅复制列表，只能拷贝最外层，修改内层则原列表和新列表都会变化"
   ]
  },
  {
   "cell_type": "markdown",
   "metadata": {},
   "source": [
    "## 2、元组\n",
    "\n",
    "### 2.1 元组概念\n",
    "\n",
    "Python 的元组与列表类似，不同之处在于元组的元素不能修改。元组使用小括号，列表使用方括号。\n",
    "\n",
    "### 2.2 元组基本操作\n",
    "\n",
    "* **创建元组：** 只需要在括号中添加元素，并使用逗号隔开即可(当只有一个元素时，也需要用逗号隔开，否则括号会被当成运算符)\n",
    "\n",
    "* **访问元组中的值：** 元组与列表、字符串类似，下标索引从0开始，可以进行截取，组合等\n",
    "\n",
    "* **修改元组：** 元组的元素不能修改，但可以进行连接组合创建成一个新元组\n",
    "\n",
    "* **删除元组：** 元组中的元素值是不允许删除的，但可以使用del语句来删除整个元组\n",
    "\n",
    "* **检查成员：** in、not in，检查元素是否存在于元组中\n",
    "\n",
    "* **脚本操作符：** 元组对 + 和 \\* 的操作符与字符串相似，+ 用于组合，\\* 用于复制，都会生成一个新的元组"
   ]
  },
  {
   "cell_type": "code",
   "execution_count": 3,
   "metadata": {},
   "outputs": [
    {
     "name": "stdout",
     "output_type": "stream",
     "text": [
      "(1, 2)\n",
      "(1, 2, '3', 4)\n",
      "True\n",
      "(1, 2, '3', 1, 2, '3')\n"
     ]
    }
   ],
   "source": [
    "tup = (1, 2, '3')\n",
    "tup2 = (4, )  # 当只有一个元素时，也需要用逗号隔开，否则括号会被当成运算符\n",
    "print(tup[0:2])  # 访问元组\n",
    "print(tup + tup2)  # 元组的元素不能修改，但可以进行连接组合创建成一个新元组\n",
    "del tup2  # 不能修改元素，但可以删除整个元组\n",
    "print(1 in tup)  # 检查成员\n",
    "print(tup * 2)  # 复制元组，生成新的元组"
   ]
  },
  {
   "cell_type": "markdown",
   "metadata": {},
   "source": [
    "### 2.3 元组相关函数、方法\n",
    "\n",
    "**函数** | **描述**\n",
    "------- | -------\n",
    "len(tuple) | 返回元组元素个数\n",
    "max(tuple) &#124; min(tuple)| 返回元组元素最大值/最小值\n",
    "tuple(list) | 将列表转换为元组\n",
    "\n",
    "**方法** | **描述**\n",
    "------- | -------\n",
    "tuple.count(obj) | 统计某个元素在元组中出现的次数\n",
    "tuple.index(obj) | 从元组中找出某个值第一个匹配项的索引位置"
   ]
  },
  {
   "cell_type": "markdown",
   "metadata": {},
   "source": [
    "## 3、提升\n",
    "\n",
    "### 3.1 序列类型\n",
    "\n",
    "Python有6个序列的内置类型，分别是**列表、元组、字符串、Unicode字符串、buffer对象、xrange 对象**，最常见的是列表和元组。序列通用的操作包括：索引、长度、组合（序列相加）、重复（乘法）、切片、检查成员、遍历、最小值和最大值。\n",
    "\n",
    "### 3.2 列表与元组对比\n",
    "\n",
    "**相同点：**\n",
    "\n",
    "* 均具有序列的特性，均可以进行序列通用的操作\n",
    "* 通常均使用括号(小括号和中括号)表示，且括号内的元素以逗号分隔值出现，数据项均不需要具有相同的类型\n",
    "* 均包含内置函数max、min、len\n",
    "* 可以相互转换\n",
    "\n",
    "**异同点：**\n",
    "\n",
    "* 列表可修改，元组不可修改\n",
    "* 列表有较多内置方法，元组只有count和index两个内置方法"
   ]
  },
  {
   "cell_type": "code",
   "execution_count": 4,
   "metadata": {},
   "outputs": [
    {
     "name": "stdout",
     "output_type": "stream",
     "text": [
      "(1, 2, 3, 4)\n",
      "[4, 3, 2, 1]\n"
     ]
    }
   ],
   "source": [
    "# 列表与元组的相互转化\n",
    "list1 = [1, 2, 3, 4]\n",
    "tuple1 = (4, 3, 2, 1)\n",
    "print(tuple(list1))\n",
    "print(list(tuple1))"
   ]
  },
  {
   "cell_type": "markdown",
   "metadata": {},
   "source": [
    "## 【Day2 Task】\n",
    "定义一个列表，包含自己的家庭成员，并在指定位置插入给定元素，例如你的男女朋友名称等。再将男女朋友名字移除等操作。"
   ]
  },
  {
   "cell_type": "code",
   "execution_count": 5,
   "metadata": {},
   "outputs": [
    {
     "name": "stdout",
     "output_type": "stream",
     "text": [
      "Original Family： ['Father', 'Mother', 'Brother', 'Sister', 'Me']\n",
      "Add GirlFriend To Original Family： ['Father', 'Mother', 'Brother', 'Sister', 'Me', 'GirlFriend']\n",
      "Remove GirlFriend From Original Family： ['Father', 'Mother', 'Brother', 'Sister', 'Me']\n"
     ]
    }
   ],
   "source": [
    "family = ['Father', 'Mother', 'Brother', 'Sister', 'Me']\n",
    "print('Original Family：', family)\n",
    "\n",
    "family.insert(5, 'GirlFriend')\n",
    "print('Add GirlFriend To Original Family：', family)\n",
    "\n",
    "family.remove('GirlFriend')\n",
    "print('Remove GirlFriend From Original Family：', family)"
   ]
  }
 ],
 "metadata": {
  "kernelspec": {
   "display_name": "Python 3",
   "language": "python",
   "name": "python3"
  },
  "language_info": {
   "codemirror_mode": {
    "name": "ipython",
    "version": 3
   },
   "file_extension": ".py",
   "mimetype": "text/x-python",
   "name": "python",
   "nbconvert_exporter": "python",
   "pygments_lexer": "ipython3",
   "version": "3.6.5"
  }
 },
 "nbformat": 4,
 "nbformat_minor": 2
}
