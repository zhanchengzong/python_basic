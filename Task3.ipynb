{
 "cells": [
  {
   "cell_type": "markdown",
   "metadata": {},
   "source": [
    "# 【Day 3】\n",
    "\n",
    "## 1、字典\n",
    "\n",
    "### 1.1 字典概念\n",
    "\n",
    "字典是一种可变容器，可存储任意类型对象。字典的每个键值对(key: value)用冒号(:)分割，每个对之间用逗号(,)分割，整个字典包括在花括号{}中 。\n",
    "\n",
    "**注意：**\n",
    "* 字典是可变的、无序的（所以不可以用下标索引）\n",
    "* 键必须是唯一；值可以重复\n",
    "* 键必须是不可变的，如字符串、数字或元组；值可以取任何数据类型\n",
    "\n",
    "\n",
    "### 1.2 字典基本操作\n",
    "\n",
    "* **创建字典：** d = {'key1': 'value1',  'key2': 'value2' }\n",
    "\n",
    "* **访问字典中的值：** 把相应的键放到方括号\\[\\]中，如d\\['key1'\\]，若没有该键则报错；可以用d.get('key1')访问，没有该键则返回None\n",
    "\n",
    "* **更新字典：** 用d\\[key\\]=value的形式可以对字典的数据项进行修改、添加\n",
    "\n",
    "* **删除字典元素：** d.pop(key, default)可删除并返回键为key的键值对；d.clear()清空字典；del d\\[key\\]对指定的键删除；del d删除整个字典，包括d这个对象\n",
    "\n",
    "* **检查成员：** in、not in，检查元素是否存在于字典的键值中，如 'key1' in d 等同于 'key1' in d.keys()"
   ]
  },
  {
   "cell_type": "code",
   "execution_count": 1,
   "metadata": {},
   "outputs": [],
   "source": [
    "d = {'key1': 'value1', 'key2': 'value2' }  # 创建字典\n",
    "print(d)\n",
    "print(d['key1'], d.get('key1'))  # 访问字典\n",
    "d['key3'] = 'value3'  # 更新字典，添加元素\n",
    "del d['key3']  # 删除字典元素\n",
    "print('key1' in d, 'key1' in d.keys())  # 检查成员"
   ]
  },
  {
   "cell_type": "markdown",
   "metadata": {},
   "source": [
    "### 1.3 字典相关函数、方法\n",
    "\n",
    "**函数** | **描述**\n",
    "------- | -------\n",
    "len(dict) | 计算字典元素个数，即键的总数\n",
    "str(dict) | 以字符串形式输出字典，如\"{'key1': 'value1', 'key2': 'value2'}\"\n",
    "max(dict, key=dict.get) | 查找字典最大值(value)的键(key)\n",
    "\n",
    "**方法** | **描述**\n",
    "------- | -------\n",
    "d.clear() | 删除字典内所有元素\n",
    "d.copy() | 返回一个字典的浅复制\n",
    "d.fromkeys(seq, value) | 事先定义一个空字典，然后以seq中元素做字典的键，val为字典所有键对应的初始值,如d.fromkeys(\\['a', 'b'\\], 10)\n",
    "d.get(key, default=None) | 返回指定键的值，如果值不在字典中返回default值\n",
    "key in d | 如果键在字典d里返回True，否则返回False\n",
    "d.items() | 以列表返回可遍历的(键, 值) 元组数组\n",
    "d.keys() &#124; d.values() | 返回一个迭代器，存放字典的keys和values，可以使用 list() 来转换为列表\n",
    "d.keys() | 返回一个迭代器，可以使用 list() 来转换为列表\n",
    "d.setdefault(key, default=None) | 和get()类似, 但如果键不存在于字典中，将会添加键并将值设为default\n",
    "d.update(dict2) | 把字典dict2的键/值对批量更新到d里，类似list的extend()、set的update()\n",
    "d.pop(key, default) | 删除字典给定键 key 所对应的值，返回值为被删除的值，设定default则返回default值。若key不存在则报错\n",
    "d.popitem() | 随机返回并删除字典中的一对键和值(一般删除末尾对)"
   ]
  },
  {
   "cell_type": "code",
   "execution_count": 2,
   "metadata": {},
   "outputs": [
    {
     "name": "stdout",
     "output_type": "stream",
     "text": [
      "{'key1': 'value1', 'key2': 'value2'}\n",
      "dict_items([('key1', 'value1'), ('key2', 'value2')]) dict_keys(['key1', 'key2']) dict_values(['value1', 'value2'])\n"
     ]
    }
   ],
   "source": [
    "d = {'key1': 'value1', 'key2': 'value2' }  # 创建字典\n",
    "print(d)\n",
    "print(d.items(), d.keys(), d.values())"
   ]
  },
  {
   "cell_type": "markdown",
   "metadata": {},
   "source": [
    "## 2、集合\n",
    "\n",
    "### 2.1 集合概念\n",
    "\n",
    "集合（set）是一个无序的（所以不可以用下标索引）不重复元素序列。注意set里面的元素必须是不可变对象（如字符串、数字、元组等），不能包含list、dict等可变对象。\n",
    "\n",
    "### 2.2 集合基本操作\n",
    "\n",
    "* **创建集合：** 可以使用大括号 { } 或者 set() 函数创建集合，注意：创建一个空集合必须用 set() 而不是 { }，因为 { } 是用来创建一个空字典\n",
    "\n",
    "* **修改集合：** 可进行增删改，方法见2.3\n",
    "\n",
    "* **检查成员：** in、not in，检查元素是否存在于集合中"
   ]
  },
  {
   "cell_type": "code",
   "execution_count": 3,
   "metadata": {},
   "outputs": [
    {
     "name": "stdout",
     "output_type": "stream",
     "text": [
      "{'a', 1, 2} {0, 3, 'b'}\n"
     ]
    }
   ],
   "source": [
    "set1 = {1, 2, 'a'}  # 创建集合1\n",
    "set2 = set([0, 'b', 3])  # 创建集合2\n",
    "print(set1, set2)"
   ]
  },
  {
   "cell_type": "markdown",
   "metadata": {},
   "source": [
    "### 2.3 集合相关函数/运算符、方法\n",
    "\n",
    "**函数/运算符** | **描述**\n",
    "------- | -------\n",
    "len(set) | 返回集合中元素的个数\n",
    "set1 &#124; set2 | 返回set1与set2的并集\n",
    "set1 & set2 | 返回set1与set2的交集\n",
    "set1 ^ set2 | 返回set1与set2的对称差集（在set1、set2中存在，但不同时存在于set1、set2的元素）\n",
    "set1 - set2 | 返回set1相对于set2的差集（存在于set1中但不存在与set2中的元素）\n",
    "\n",
    "\n",
    "**方法** | **描述**\n",
    "------- | -------\n",
    "s.add() | 为集合添加元素,每次添加一个\n",
    "s.update() | 为集合添加元素,一次可以添加多个，类似于list的extend()、dict的update()\n",
    "s.clear() | 移除集合中的所有元素\n",
    "s.copy() | 拷贝一个集合\n",
    "s.pop() | 随机移除元素\n",
    "s.discard() | 移除指定元素,若没有不报错\n",
    "s.remove() | 移除指定元素,若没有则报错\n",
    "s1.isdisjoint(s2) | 判断两个集合是否包含相同的元素，如果没有返回 True，否则返回 False\n",
    "s1.issubset(s2) | 判断s1是否为s2的子集\n",
    "s1.issuperset(s2) | 判断s2是否为s1的子集\n",
    "s1.union(s2) | 返回两个集合的并集，即s1 &#124; s2\n",
    "s1.intersection(s2) | 返回s1或s2的交集，即s1 & s2\n",
    "s1.intersection_update(s2) | 返回s1或s2的交集，并更新给s1\n",
    "s1.symmetric_difference(s2) | 返回两个集合的对称差集，即s1 ^ s2\n",
    "s1.symmetric_difference_update(s2) | 返回s1与s2的对称差集，并更新给s1\n",
    "s1.difference(s2) | 返回s1相对于s2的差集，即s1 - s2\n",
    "s1.difference_update(s2) | 返回s1相对于s2的差集，并更新给s1"
   ]
  },
  {
   "cell_type": "code",
   "execution_count": 4,
   "metadata": {},
   "outputs": [
    {
     "name": "stdout",
     "output_type": "stream",
     "text": [
      "并集： {1, 2, 3, 4}\n",
      "交集： {2, 3}\n",
      "对称差集： {1, 4}\n",
      "差集： {1}\n"
     ]
    }
   ],
   "source": [
    "s1 = set([1, 2, 3])\n",
    "s2 = set([2, 3, 4])\n",
    "print('并集：', s1 | s2)\n",
    "print('交集：', s1 & s2)\n",
    "print('对称差集：', s1 ^ s2)\n",
    "print('差集：', s1 - s2)"
   ]
  },
  {
   "cell_type": "markdown",
   "metadata": {},
   "source": [
    "## 3、file文件读取\n",
    "\n",
    "### 3.1 打开文件方式\n",
    "\n",
    "open() 方法用于打开一个文件，接收两个参数：文件名(file)和模式(mode)，并返回文件对象，在对文件进行处理过程都需要使用到这个函数，如果该文件无法被打开，会抛出 OSError。\n",
    "\n",
    "open(file, mode='r', buffering=None, encoding=None, errors=None, newline=None, closefd=True)\n",
    "\n",
    "* **file：** 必需，文件路径（相对或者绝对路径）\n",
    "\n",
    "* **mode：** 文件打开模式，默认为'r'\n",
    "\n",
    "* **buffering：** 设置缓冲\n",
    "\n",
    "* **encoding：** 默认根据系统平台选择\n",
    "\n",
    "* **errors：** 报错级别\n",
    "\n",
    "* **newline：** 区分换行符，如'\\n'，'\\r'\n",
    "\n",
    "* **closefd：** 为False时，当文件关闭，底层文件描述符将保持打开状态\n",
    "-------------------------------------------------------------\n",
    "* **mode常用模式：**\n",
    "\n",
    "**模式** | **描述**\n",
    "------- | -------\n",
    "r | 以只读方式打开文件（默认模式），文件必须存在，不存在抛出错误\n",
    "rb | 以二进制格式打开一个文件用于只读\n",
    "r+ | 打开一个文件用于读写，文件指针将会放在文件的开头，读完就追加\n",
    "w | 打开一个文件只用于写入。如果该文件已存在则将其覆盖；如果该文件不存在，创建新文件\n",
    "w+ | 打开一个文件用于读写。其余同w\n",
    "a | 打开一个文件用于追加。如果该文件已存在，新的内容将会被写入到已有内容之后。如果该文件不存在，创建新文件进行写入\n",
    "a+ | 打开一个文件用于读写。其余同a\n",
    "rb &#124; wb &#124; ab | 默认为文本模式，如果要以二进制模式打开，加上 b\n",
    "\n",
    "**注意：** 使用 open() 方法一定要保证关闭文件对象，即调用 close() 方法。\n",
    "\n",
    "\n",
    "### 3.2 文件对象的操作方法\n",
    "\n",
    "**方法** | **描述**\n",
    "------- | -------\n",
    "file.close() | 关闭文件,文件操作后记得关闭\n",
    "file.write(str) | 将字符串写入文件，返回的是写入的字符长度\n",
    "file.writelines(sequence) | 向文件写入一个序列字符串列表，如果需要换行则要自己加入每行的换行符\n",
    "file.next() | 返回文件下一行\n",
    "file.read(\\[size\\]) | 从文件读取指定的字节数，如果未给定或为负则读取所有\n",
    "file.readline(\\[size\\]) | 读取整行，包括 \"\\n\" 字符\n",
    "file.readlines(\\[sizeint\\]) | 读取所有行并返回列表，若给定sizeint>0，返回总和大约为sizeint字节的行, 实际读取值可能比 sizeint 较大, 因为需要填充缓冲区\n",
    "file.tell() | 返回文件当前位置\n",
    "file.seek(offset\\[, whence\\]) | 设置文件当前位置\n",
    "file.truncate(\\[size\\]) | 从文件的首行首字符开始截断，截断文件为 size 个字符\n",
    "file.flush() | 刷新文件内部缓冲，直接把内部缓冲区的数据立刻写入文件, 而不是被动的等待输出缓冲区写入\n",
    "file.fileno() | 返回一个整型的文件描述符(file descriptor FD 整型), 可以用在如os模块的read方法等一些底层操作上\n",
    "file.isatty() | 如果文件连接到一个终端设备返回 True，否则返回 False"
   ]
  },
  {
   "cell_type": "markdown",
   "metadata": {},
   "source": [
    "## 【Day 3 Task】\n",
    "读取一个文件(文件将在之后给出)，将文件中转换为字典，key值为学习项目，value值为一个负责人列表，并判断字典中是否有负责人负责多个学习项目。"
   ]
  },
  {
   "cell_type": "code",
   "execution_count": 5,
   "metadata": {},
   "outputs": [
    {
     "name": "stdout",
     "output_type": "stream",
     "text": [
      "{'ML项目实践': ['杨冰楠', '孙涛'],\n",
      " 'leetcode刷题': ['老表', '陈焕森'],\n",
      " 'python学习': ['咖喱', '胡骞'],\n",
      " '基础算法梳理': ['sm1les', '钱令武'],\n",
      " '学习群': ['咖喱', '排骨'],\n",
      " '知乎小组': ['李严', '黑桃'],\n",
      " '统计学': ['李奇峰', '蓝昔'],\n",
      " '编程集训': ['孙超', '小熊'],\n",
      " '高级算法梳理': ['于鸿飞', '小雪']}\n"
     ]
    }
   ],
   "source": [
    "from pprint import pprint\n",
    "d = {}\n",
    "with open('homework.txt', mode='r', encoding='utf8') as f:\n",
    "    while True:\n",
    "        data = f.readline()\n",
    "        if data is \"\":\n",
    "            break\n",
    "        else:\n",
    "            row = list(map(lambda x:x.strip(), data.split(\" \")))\n",
    "            for i in range(len(row)):\n",
    "                if i == 0:\n",
    "                    d[row[i]] = []\n",
    "                else:\n",
    "                    d[row[0]].append(row[i])\n",
    "pprint(d)"
   ]
  },
  {
   "cell_type": "code",
   "execution_count": 6,
   "metadata": {},
   "outputs": [
    {
     "name": "stdout",
     "output_type": "stream",
     "text": [
      "负责人负责多个学习项目：咖喱\n",
      "\n",
      "原始字典： {'咖喱': 2, '胡骞': 1, '老表': 1, '陈焕森': 1, '孙超': 1, '小熊': 1, '李奇峰': 1, '蓝昔': 1, '杨冰楠': 1, '孙涛': 1, '于鸿飞': 1, '小雪': 1, 'sm1les': 1, '钱令武': 1, '李严': 1, '黑桃': 1, '排骨': 1}\n"
     ]
    }
   ],
   "source": [
    "result = {}\n",
    "for key, value in d.items():\n",
    "    for val in value:\n",
    "        if result.get(val) is None:\n",
    "            result[val] = 1\n",
    "        else:\n",
    "            result[val] += 1\n",
    "\n",
    "print('负责人负责多个学习项目：', end='')\n",
    "for key, value in result.items():\n",
    "    if value > 1:\n",
    "        print(key)\n",
    "print('\\n原始字典：', result)"
   ]
  }
 ],
 "metadata": {
  "kernelspec": {
   "display_name": "Python 3",
   "language": "python",
   "name": "python3"
  },
  "language_info": {
   "codemirror_mode": {
    "name": "ipython",
    "version": 3.0
   },
   "file_extension": ".py",
   "mimetype": "text/x-python",
   "name": "python",
   "nbconvert_exporter": "python",
   "pygments_lexer": "ipython3",
   "version": "3.6.2"
  }
 },
 "nbformat": 4,
 "nbformat_minor": 0
}