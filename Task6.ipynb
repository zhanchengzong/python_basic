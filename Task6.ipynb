{
 "cells": [
  {
   "cell_type": "markdown",
   "metadata": {},
   "source": [
    "# 【Day 6】\n",
    "\n",
    "## 1、函数定义\n",
    "函数是组织好的，可重复使用的，用来实现单一或相关联功能的代码段。函数能提高应用的模块性，和代码的重复利用率。\n",
    "\n",
    "## 2、函数创建规则\n",
    "* 函数代码块以 def 关键词开头，后接函数名、圆括号()、冒号(:)\n",
    "* 任何传入的参数必须放在圆括号中\n",
    "* 函数的第一行语句可以选择性地使用文档字符串（doc string, 用于存放函数说明, \"\"\" \"\"\"）\n",
    "* 在缩进块中编写函数体\n",
    "* return \\[表达式\\] 结束函数，返回函数结果。不带表达式的return相当于返回 None\n",
    "\n",
    "**基本形式：**  \n",
    "def function_name(param1, parma2, param3, \\*\\*kwargs):  \n",
    "&#160;&#160;&#160;&#160;&#160;&#160;statement_block  \n",
    "&#160;&#160;&#160;&#160;&#160;&#160;return function_result\n",
    "\n",
    "## 3、函数参数\n",
    "\n",
    "### 3.1 参数种类\n",
    "在Python中定义函数，可以用必选参数、默认参数、可变参数、关键字参数和命名关键字参数，这5种参数都可以组合使用。  \n",
    "\n",
    "**小结：**\n",
    "* 默认参数一定要用不可变对象，如果是可变对象，程序运行时会有逻辑错误\n",
    "* 参数定义的顺序必须是：必选参数(a)、默认参数(b=10)、可变参数(\\*args)、命名关键字参数(key=None)和关键字参数(\\*\\*kwargs)。"
   ]
  },
  {
   "cell_type": "code",
   "execution_count": 1,
   "metadata": {},
   "outputs": [
    {
     "name": "stdout",
     "output_type": "stream",
     "text": [
      "a = 1 b = 2 c = 3 args= ('a',) d= b kwargs = {'key': 'value'}\n"
     ]
    }
   ],
   "source": [
    "def f1(a, b, c=0, *args, d, **kwargs):\n",
    "    print('a =', a, 'b =', b, 'c =', c, 'args=', args, 'd=', d, 'kwargs =', kwargs)\n",
    "\n",
    "f1(1, 2, 3, 'a', d= 'b', key='value')"
   ]
  },
  {
   "cell_type": "markdown",
   "metadata": {},
   "source": [
    "### 3.2 魔法变量\\*args和\\*\\*kwargs\n",
    "\\*args 和 \\*\\*kwargs 主要⽤于函数定义，可以将不定数量的参数传递给⼀个函数。不定的意思是：预先并不知道, 函数使⽤者会传递多少个参数给你, 所以在这个场景下使⽤这两个关键字。\n",
    "* **\\*args** 是⽤来发送⼀个**⾮键值对**的可变数量的**参数列表、元组**给⼀个函数。\n",
    "* **\\*\\*kwargs** 是⽤来发送⼀个**键值对**的可变数量的**参数字典**给⼀个函数。"
   ]
  },
  {
   "cell_type": "code",
   "execution_count": 2,
   "metadata": {},
   "outputs": [
    {
     "name": "stdout",
     "output_type": "stream",
     "text": [
      "*args基础示例：\n",
      "Normal param: var1\n",
      "Another param through *args: var2\n",
      "Another param through *args: var3\n",
      "Normal param: var1\n",
      "Another param through *args: var2\n",
      "Another param through *args: var3\n",
      "**args基础示例：\n",
      "Normal param: 0\n",
      "Another param through **args: max_depth=5\n",
      "Another param through **args: reg_alpha=1.0\n"
     ]
    }
   ],
   "source": [
    "ls = ['var2', 'var3']\n",
    "def func1(a, *args, key=None):\n",
    "    print('Normal param:', a)\n",
    "    for arg in args:\n",
    "        print('Another param through *args:', arg)\n",
    "\n",
    "print('*args基础示例：')        \n",
    "func1('var1', *ls)\n",
    "func1('var1', 'var2', 'var3')  # 上下句相等\n",
    "\n",
    "\n",
    "params_space = {'max_depth': 5, 'reg_alpha': 1.0}\n",
    "def func2(random_state=None, **args):\n",
    "    print('Normal param:', random_state)\n",
    "    for key, value in args.items():\n",
    "        print('Another param through **args: {}={}'.format(key, value))\n",
    "        \n",
    "print('**args基础示例：')        \n",
    "func2(random_state=0, **params_space)"
   ]
  },
  {
   "cell_type": "markdown",
   "metadata": {},
   "source": [
    "## 4、函数作用域\n",
    "在被调用函数内赋值的变量，处于该函数的“局部作用域”。在所有函数之外赋值的变量，属于“全局作用域”。\n",
    "\n",
    "一个函数被调用时，就创建了一个局部作用域。在这个函数内赋值的所有变量，存在于该局部作用域内。该函数返回时，这个局部作用域就被销毁了，这些变量就丢失了。下次调用这个函数，局部变量不会记得该函数上次被调用时它们保存的值。\n",
    "\n",
    "* 局部变量不能在全局作用域内使用\n",
    "* 局部作用域不能使用其他局部作用域内的变量\n",
    "* 全局变量可以在局部作用域中读取\n",
    "* 名称相同的局部变量和全局变量调用（优先调取局部变量，若找不到则寻找全局变量）\n",
    "* 如果需要在一个函数内修改全局变量，就使用 global 语句"
   ]
  },
  {
   "cell_type": "code",
   "execution_count": 3,
   "metadata": {},
   "outputs": [
    {
     "name": "stdout",
     "output_type": "stream",
     "text": [
      "局部变量\n"
     ]
    }
   ],
   "source": [
    "var = '全局变量'\n",
    "def func():\n",
    "    var = '局部变量'\n",
    "    print(var)\n",
    "    \n",
    "func()"
   ]
  },
  {
   "cell_type": "markdown",
   "metadata": {},
   "source": [
    "## 5、函数返回值\n",
    "用def语句创建函数时，可以用 return 语句指定应该返回什么值。(没有return的函数即默认return None)\n",
    "\n",
    "**return 语句包含以下部分：**\n",
    "\n",
    "* return 关键字\n",
    "* 函数应该返回的值或表达式"
   ]
  },
  {
   "cell_type": "code",
   "execution_count": 4,
   "metadata": {},
   "outputs": [
    {
     "name": "stdout",
     "output_type": "stream",
     "text": [
      "Hello everyone!\n",
      "True\n"
     ]
    }
   ],
   "source": [
    "def func():\n",
    "    print('Hello everyone!')\n",
    "    \n",
    "result = func()\n",
    "print(result is None)"
   ]
  },
  {
   "cell_type": "markdown",
   "metadata": {},
   "source": [
    "## 【Day 6 Task】\n",
    "1\\. 实现random.sample方法  \n",
    "2\\. 实现max方法  \n",
    "3\\. 实现判断两个字符串是否相等的方法  "
   ]
  },
  {
   "cell_type": "code",
   "execution_count": 5,
   "metadata": {},
   "outputs": [
    {
     "data": {
      "text/plain": [
       "[9, 7, 5]"
      ]
     },
     "execution_count": 5,
     "metadata": {},
     "output_type": "execute_result"
    }
   ],
   "source": [
    "# TASK 1: 实现random.sample方法\n",
    "import random\n",
    "\n",
    "def random_sample(population, k):\n",
    "    try:\n",
    "        population = list(population)\n",
    "    except:\n",
    "        raise TypeError('population必须是可迭代序列!')\n",
    "    if not isinstance(k, int):\n",
    "        raise ValueError('采样数k必须是整数！')\n",
    "    n = len(population)\n",
    "    if not 0 <= k <= n:\n",
    "        raise ValueError('采样数大于传入列表的长度或采样数为负数！')\n",
    "\n",
    "    result = []\n",
    "    for i in range(n, 0, -1):\n",
    "        idx = random.randint(0, i-1)\n",
    "        result.append(population.pop(idx))\n",
    "        if len(result) >= k:\n",
    "            break\n",
    "    return result\n",
    "\n",
    "random_sample(range(10), 3)"
   ]
  },
  {
   "cell_type": "code",
   "execution_count": 6,
   "metadata": {},
   "outputs": [
    {
     "name": "stdout",
     "output_type": "stream",
     "text": [
      "3\n",
      "-3\n"
     ]
    }
   ],
   "source": [
    "# TASK 2: 实现max方法\n",
    "def my_max(*args, key=None):\n",
    "    try:\n",
    "        ls = list(*args)\n",
    "        ls_copy = ls.copy()\n",
    "    except:\n",
    "        raise TypeError('population必须是可迭代序列!')\n",
    "\n",
    "    if key:\n",
    "        try:\n",
    "            ls = list(map(key, ls))\n",
    "        except:\n",
    "            raise TypeError('key无法正确调用!')\n",
    "\n",
    "    for i in range(len(ls) - 1):\n",
    "        ls[i + 1] = ls[i] if ls[i] > ls[i + 1] else ls[i + 1]\n",
    "        max_idx = ls.index(ls[i + 1])\n",
    "\n",
    "    return ls_copy[max_idx]\n",
    "\n",
    "\n",
    "print(my_max([2, 3, 1]))\n",
    "print(my_max([-2, -3, -1], key=abs))"
   ]
  },
  {
   "cell_type": "code",
   "execution_count": 7,
   "metadata": {},
   "outputs": [
    {
     "data": {
      "text/plain": [
       "True"
      ]
     },
     "execution_count": 7,
     "metadata": {},
     "output_type": "execute_result"
    }
   ],
   "source": [
    "# TASK 3: 实现判断两个字符串是否相等的方法\n",
    "def is_equal(str1, str2):\n",
    "    if not(isinstance(str1, str) & isinstance(str2, str)):\n",
    "        raise TypeError('传入的参数不是字符串')\n",
    "        \n",
    "    if len(str1) != len(str2):\n",
    "        return False\n",
    "    \n",
    "    for i in range(len(str1)):\n",
    "        if str1[i] != str2[i]:\n",
    "            return False\n",
    "    return True\n",
    " \n",
    " \n",
    "is_equal('10', '10')"
   ]
  }
 ],
 "metadata": {
  "kernelspec": {
   "display_name": "Python 3",
   "language": "python",
   "name": "python3"
  },
  "language_info": {
   "codemirror_mode": {
    "name": "ipython",
    "version": 3
   },
   "file_extension": ".py",
   "mimetype": "text/x-python",
   "name": "python",
   "nbconvert_exporter": "python",
   "pygments_lexer": "ipython3",
   "version": "3.6.2"
  }
 },
 "nbformat": 4,
 "nbformat_minor": 1
}
